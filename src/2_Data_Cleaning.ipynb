{
 "cells": [
  {
   "cell_type": "code",
   "execution_count": 3,
   "id": "86ebadb2",
   "metadata": {},
   "outputs": [],
   "source": [
    "# Filter warnings for readability\n",
    "import warnings\n",
    "warnings.filterwarnings('ignore')"
   ]
  },
  {
   "cell_type": "markdown",
   "id": "ade5f2a6",
   "metadata": {},
   "source": [
    "Imports & Config"
   ]
  },
  {
   "cell_type": "code",
   "execution_count": 1,
   "id": "dcd5d83d",
   "metadata": {},
   "outputs": [
    {
     "name": "stderr",
     "output_type": "stream",
     "text": [
      "c:\\Users\\james\\AppData\\Local\\Programs\\Python\\Python310\\lib\\site-packages\\tqdm\\auto.py:21: TqdmWarning: IProgress not found. Please update jupyter and ipywidgets. See https://ipywidgets.readthedocs.io/en/stable/user_install.html\n",
      "  from .autonotebook import tqdm as notebook_tqdm\n",
      "W0708 23:00:30.259000 55984 site-packages\\torch\\distributed\\elastic\\multiprocessing\\redirects.py:29] NOTE: Redirects are currently not supported in Windows or MacOs.\n"
     ]
    }
   ],
   "source": [
    "import pandas as pd\n",
    "from transformers import pipeline\n",
    "import numpy as np\n",
    "from sklearn.model_selection import train_test_split\n",
    "import spacy\n",
    "import torch\n",
    "import yaml\n",
    "import matplotlib.pyplot as plt\n",
    "from sklearn.model_selection import train_test_split, GridSearchCV\n",
    "from sklearn.pipeline import Pipeline\n",
    "from sklearn.feature_extraction.text import TfidfVectorizer\n",
    "from sklearn.linear_model import LogisticRegression\n",
    "from sklearn.calibration import CalibratedClassifierCV, calibration_curve\n",
    "from sklearn.metrics import classification_report, roc_curve, auc\n",
    "\n",
    "with open(\"config.yaml\", \"r\") as file:\n",
    "    config = yaml.safe_load(file)\n"
   ]
  },
  {
   "cell_type": "code",
   "execution_count": 2,
   "id": "d47fbe45",
   "metadata": {},
   "outputs": [
    {
     "name": "stdout",
     "output_type": "stream",
     "text": [
      "PyTorch version: 2.7.1+cu118\n",
      "CUDA version PyTorch was built with: 11.8\n",
      "Is CUDA available: True\n",
      "CUDA device: Quadro P2000 with Max-Q Design\n",
      "GPU Opt:  True\n"
     ]
    }
   ],
   "source": [
    "print(\"PyTorch version:\", torch.__version__)\n",
    "print(\"CUDA version PyTorch was built with:\", torch.version.cuda)\n",
    "print(\"Is CUDA available:\", torch.cuda.is_available())\n",
    "if torch.cuda.is_available():\n",
    "    print(\"CUDA device:\", torch.cuda.get_device_name(0))\n",
    "    print(\"GPU Opt: \", config['use_available_gpus'] )"
   ]
  },
  {
   "cell_type": "markdown",
   "id": "e8e65520",
   "metadata": {},
   "source": [
    "Read in Dataset"
   ]
  },
  {
   "cell_type": "code",
   "execution_count": 4,
   "id": "2effe2a0",
   "metadata": {},
   "outputs": [],
   "source": [
    "events_df = pd.read_csv('Nat Cat Events.csv')"
   ]
  },
  {
   "cell_type": "markdown",
   "id": "64fb1bcb",
   "metadata": {},
   "source": [
    "Only Consider Titles"
   ]
  },
  {
   "cell_type": "code",
   "execution_count": 5,
   "id": "e06c5f65",
   "metadata": {},
   "outputs": [],
   "source": [
    "titles = events_df['title']"
   ]
  },
  {
   "cell_type": "markdown",
   "id": "fc23eb98",
   "metadata": {},
   "source": [
    "### __Step 1__: Remove *duplicates*, *null values* & *whitespaces*"
   ]
  },
  {
   "cell_type": "code",
   "execution_count": 6,
   "id": "cf90211c",
   "metadata": {},
   "outputs": [],
   "source": [
    "titles = titles.drop_duplicates().reset_index(drop=True)"
   ]
  },
  {
   "cell_type": "code",
   "execution_count": 7,
   "id": "7802fbce",
   "metadata": {},
   "outputs": [],
   "source": [
    "titles = titles.dropna().reset_index(drop=True)"
   ]
  },
  {
   "cell_type": "code",
   "execution_count": 8,
   "id": "dab14738",
   "metadata": {},
   "outputs": [],
   "source": [
    "titles_df = pd.DataFrame(titles)"
   ]
  },
  {
   "cell_type": "code",
   "execution_count": 9,
   "id": "d3b21fd6",
   "metadata": {},
   "outputs": [],
   "source": [
    "titles_df[\"title\"] = titles_df[\"title\"].str.strip()"
   ]
  },
  {
   "cell_type": "code",
   "execution_count": 10,
   "id": "eb359743",
   "metadata": {},
   "outputs": [
    {
     "name": "stdout",
     "output_type": "stream",
     "text": [
      "<class 'pandas.core.frame.DataFrame'>\n",
      "RangeIndex: 65158 entries, 0 to 65157\n",
      "Data columns (total 1 columns):\n",
      " #   Column  Non-Null Count  Dtype \n",
      "---  ------  --------------  ----- \n",
      " 0   title   65158 non-null  object\n",
      "dtypes: object(1)\n",
      "memory usage: 509.2+ KB\n"
     ]
    }
   ],
   "source": [
    "titles_df.info()"
   ]
  },
  {
   "cell_type": "markdown",
   "id": "4cfe02fd",
   "metadata": {},
   "source": [
    "### __Step 2__: Find articles containing a *location*."
   ]
  },
  {
   "cell_type": "markdown",
   "id": "bf3a45df",
   "metadata": {},
   "source": [
    "Select NLP Pipeline depending on hardware availability\n",
    "\n",
    "\n",
    "`en_core_web_try`: Uses a Transformer for word & context embeddings\n",
    "\n",
    "\n",
    "`en_core_web_sm`: Token-to-Vector (Tok2Vec) based pipeline uses CNN's or LSTM's for work & context embeddings\n",
    "\n",
    "See documentation [here](https://spacy.io/models/en#benchmarks)\n"
   ]
  },
  {
   "cell_type": "code",
   "execution_count": 11,
   "id": "17e715c1",
   "metadata": {},
   "outputs": [
    {
     "name": "stdout",
     "output_type": "stream",
     "text": [
      "Using trf (GPU Supported)\n"
     ]
    }
   ],
   "source": [
    "if torch.cuda.is_available() and config['use_available_gpus']:\n",
    "    spacy.require_gpu() # Use GPU\n",
    "    nlp = spacy.load(config['ner_pipeline_gpu'])\n",
    "    batch_size = config['batch_size_gpu']\n",
    "    print(\"Using trf (GPU Supported)\")\n",
    "else:\n",
    "    nlp = spacy.load(config['ner_pipeline_cpu']) # Use CPU\n",
    "    batch_size = config['batch_size_cpu']\n",
    "    print(\"Using sm\")"
   ]
  },
  {
   "cell_type": "markdown",
   "id": "b2d8736b",
   "metadata": {},
   "source": [
    "##### Find articles where the titles match the following criteria using *SpaCy* a *NLP* module for *Named-Entity-Recognition*\n",
    "- Contains a geopolitical entity like a country, city or state (Entity GPE) OR\n",
    "- Contains a Non-GPE location like a mountain or body of water (Entity LOC)\n",
    "\n",
    "Entities are taken from the [OntoNotes5](https://catalog.ldc.upenn.edu/LDC2013T19) dataset which many english models are built on"
   ]
  },
  {
   "cell_type": "code",
   "execution_count": null,
   "id": "f95afca2",
   "metadata": {},
   "outputs": [],
   "source": [
    "docs = list(nlp.pipe(titles_df['title'].values, batch_size=batch_size))\n",
    "#titles_df['occurrence_and_location'] = [any(ent.label_ in (\"DATE\", \"TIME\") for ent in doc.ents) and any(ent.label_ in (\"GPE\", \"LOC\") for ent in doc.ents) for doc in docs]\n",
    "titles_df['has_location'] = [any(ent.label_ in (\"GPE\", \"LOC\") for ent in doc.ents) for doc in docs]"
   ]
  },
  {
   "cell_type": "code",
   "execution_count": null,
   "id": "c19c9c2b",
   "metadata": {},
   "outputs": [],
   "source": [
    "# Free up CUDA Cores\n",
    "if config['use_available_gpus']:\n",
    "    torch.cuda.empty_cache()\n",
    "    torch.cuda.ipc_collect()"
   ]
  },
  {
   "cell_type": "code",
   "execution_count": 14,
   "id": "edabd32a",
   "metadata": {},
   "outputs": [],
   "source": [
    "titles_df.to_csv('titles_containing_locations.csv', index = False)"
   ]
  },
  {
   "cell_type": "code",
   "execution_count": 2,
   "id": "e9f8df07",
   "metadata": {},
   "outputs": [],
   "source": [
    "titles_df = pd.read_csv('titles_containing_locations.csv')\n",
    "titles_location_df = titles_df[titles_df['has_location']]"
   ]
  },
  {
   "cell_type": "code",
   "execution_count": 3,
   "id": "386d6695",
   "metadata": {},
   "outputs": [
    {
     "name": "stdout",
     "output_type": "stream",
     "text": [
      "<class 'pandas.core.frame.DataFrame'>\n",
      "Index: 40989 entries, 0 to 65156\n",
      "Data columns (total 2 columns):\n",
      " #   Column        Non-Null Count  Dtype \n",
      "---  ------        --------------  ----- \n",
      " 0   title         40989 non-null  object\n",
      " 1   has_location  40989 non-null  bool  \n",
      "dtypes: bool(1), object(1)\n",
      "memory usage: 680.5+ KB\n"
     ]
    }
   ],
   "source": [
    "titles_location_df.info()"
   ]
  },
  {
   "cell_type": "markdown",
   "id": "cba87317",
   "metadata": {},
   "source": [
    "### __Step 3__: Use a *Zero-Shot-Classifier* to capture confidence of a title implying a *natural catastrophe event*"
   ]
  },
  {
   "cell_type": "code",
   "execution_count": 4,
   "id": "905d5c45",
   "metadata": {},
   "outputs": [
    {
     "name": "stdout",
     "output_type": "stream",
     "text": [
      "Using GPU\n"
     ]
    },
    {
     "name": "stderr",
     "output_type": "stream",
     "text": [
      "c:\\Users\\james\\AppData\\Local\\Programs\\Python\\Python310\\lib\\site-packages\\huggingface_hub\\file_download.py:943: FutureWarning: `resume_download` is deprecated and will be removed in version 1.0.0. Downloads always resume when possible. If you want to force a new download, use `force_download=True`.\n",
      "  warnings.warn(\n"
     ]
    }
   ],
   "source": [
    "labels = [\"natural catastrophe event that has occurred\"]\n",
    "\n",
    "if torch.cuda.is_available() and config['use_available_gpus']:\n",
    "    print(\"Using GPU\")\n",
    "    classifier = pipeline(\"zero-shot-classification\", model=config['zero_shot_model_gpu'], device=0) # Use GPU\n",
    "    results = classifier(titles_location_df['title'].tolist(), candidate_labels=labels, batch_size=config['batch_size_gpu'])\n",
    "else:\n",
    "    print(\"Using CPU\")\n",
    "    classifier = pipeline(\"zero-shot-classification\", model=config['zero_shot_model_cpu'], device=-1) # Use CPU\n",
    "    results = classifier(titles_location_df['title'].tolist(), candidate_labels=labels, batch_size=config['batch_size_cpu'])"
   ]
  },
  {
   "cell_type": "code",
   "execution_count": 5,
   "id": "8506432f",
   "metadata": {},
   "outputs": [
    {
     "name": "stderr",
     "output_type": "stream",
     "text": [
      "C:\\Users\\james\\AppData\\Local\\Temp\\ipykernel_55984\\765615976.py:1: SettingWithCopyWarning: \n",
      "A value is trying to be set on a copy of a slice from a DataFrame.\n",
      "Try using .loc[row_indexer,col_indexer] = value instead\n",
      "\n",
      "See the caveats in the documentation: https://pandas.pydata.org/pandas-docs/stable/user_guide/indexing.html#returning-a-view-versus-a-copy\n",
      "  titles_location_df['zero_shot_score'] = [zero_shot['scores'][0] for zero_shot in results]\n"
     ]
    }
   ],
   "source": [
    "titles_location_df['zero_shot_score'] = [zero_shot['scores'][0] for zero_shot in results]"
   ]
  },
  {
   "cell_type": "code",
   "execution_count": 6,
   "id": "a0540ceb",
   "metadata": {},
   "outputs": [],
   "source": [
    "titles_location_df.to_csv('titles_zero_shot.csv', index=False)"
   ]
  },
  {
   "cell_type": "code",
   "execution_count": 7,
   "id": "faf93def",
   "metadata": {},
   "outputs": [],
   "source": [
    "# Free up CUDA Cores\n",
    "del classifier\n",
    "del results\n",
    "if config['use_available_gpus']:\n",
    "    torch.cuda.empty_cache()\n",
    "    torch.cuda.ipc_collect()"
   ]
  },
  {
   "cell_type": "markdown",
   "id": "355f6c09",
   "metadata": {},
   "source": [
    "#### Analyse the Distribution of scores"
   ]
  },
  {
   "cell_type": "code",
   "execution_count": 8,
   "id": "618f3933",
   "metadata": {},
   "outputs": [
    {
     "data": {
      "text/plain": [
       "<Axes: >"
      ]
     },
     "execution_count": 8,
     "metadata": {},
     "output_type": "execute_result"
    },
    {
     "data": {
      "image/png": "[encoded data removed]",
      "text/plain": [
       "<Figure size 640x480 with 1 Axes>"
      ]
     },
     "metadata": {},
     "output_type": "display_data"
    }
   ],
   "source": [
    "titles_location_df['zero_shot_score'].hist(bins=100)"
   ]
  },
  {
   "cell_type": "markdown",
   "id": "8fd0adfa",
   "metadata": {},
   "source": [
    "From this histogram we can see that the Zero-Shot-Classifier is confident predicting a majority of titles (>0.9 or <0.1)"
   ]
  },
  {
   "cell_type": "markdown",
   "id": "a890df15",
   "metadata": {},
   "source": [
    "### __Step 4__: Build a Supervised Model to refine less confident Zero-Shot classifications\n",
    "Let's get a second opinion on these less-confident classifications\n",
    "- Take extremely confident predictions (>0.99 or <0.01) and use these titles for training"
   ]
  },
  {
   "cell_type": "code",
   "execution_count": 52,
   "id": "9a2de116",
   "metadata": {},
   "outputs": [
    {
     "name": "stdout",
     "output_type": "stream",
     "text": [
      "The number of confident Zero-Shot classifications:  9154\n",
      "The number of Less confident Zero-Shot classifications:  31835\n"
     ]
    }
   ],
   "source": [
    "# Take rows of extremelt confident predictions\n",
    "extemely_confident_df = titles_location_df[(titles_location_df['zero_shot_score'] > 0.99) | (titles_location_df['zero_shot_score'] < 0.01)]\n",
    "less_confident_df = titles_location_df[(titles_location_df['zero_shot_score'] < 0.99) & (titles_location_df['zero_shot_score'] > 0.01)]\n",
    "print(\"The number of confident Zero-Shot classifications: \", len(extemely_confident_df))\n",
    "print(\"The number of Less confident Zero-Shot classifications: \", len(less_confident_df))"
   ]
  },
  {
   "cell_type": "code",
   "execution_count": 53,
   "id": "f4b69bd0",
   "metadata": {},
   "outputs": [
    {
     "name": "stderr",
     "output_type": "stream",
     "text": [
      "C:\\Users\\james\\AppData\\Local\\Temp\\ipykernel_55984\\2095714043.py:2: SettingWithCopyWarning: \n",
      "A value is trying to be set on a copy of a slice from a DataFrame.\n",
      "Try using .loc[row_indexer,col_indexer] = value instead\n",
      "\n",
      "See the caveats in the documentation: https://pandas.pydata.org/pandas-docs/stable/user_guide/indexing.html#returning-a-view-versus-a-copy\n",
      "  extemely_confident_df['labels'] = np.where(extemely_confident_df['zero_shot_score'] > 0.99, 1, np.where(extemely_confident_df['zero_shot_score'] < 0.01, 0, np.nan)).astype(int)\n"
     ]
    }
   ],
   "source": [
    "# Create binary label for training\n",
    "extemely_confident_df['labels'] = np.where(extemely_confident_df['zero_shot_score'] > 0.99, 1, np.where(extemely_confident_df['zero_shot_score'] < 0.01, 0, np.nan)).astype(int)"
   ]
  },
  {
   "cell_type": "code",
   "execution_count": 54,
   "id": "1b0c4cd4",
   "metadata": {},
   "outputs": [
    {
     "name": "stdout",
     "output_type": "stream",
     "text": [
      "<class 'pandas.core.frame.DataFrame'>\n",
      "Index: 9154 entries, 12 to 65147\n",
      "Data columns (total 4 columns):\n",
      " #   Column           Non-Null Count  Dtype  \n",
      "---  ------           --------------  -----  \n",
      " 0   title            9154 non-null   object \n",
      " 1   has_location     9154 non-null   bool   \n",
      " 2   zero_shot_score  9154 non-null   float64\n",
      " 3   labels           9154 non-null   int32  \n",
      "dtypes: bool(1), float64(1), int32(1), object(1)\n",
      "memory usage: 259.2+ KB\n"
     ]
    }
   ],
   "source": [
    "extemely_confident_df.info()"
   ]
  },
  {
   "cell_type": "code",
   "execution_count": 55,
   "id": "ce3a8653",
   "metadata": {},
   "outputs": [],
   "source": [
    "extemely_confident_df = extemely_confident_df.reset_index(drop=True)"
   ]
  },
  {
   "cell_type": "markdown",
   "id": "1de768f6",
   "metadata": {},
   "source": [
    "Using `title` as the independent variable and `labels` as the target variable"
   ]
  },
  {
   "cell_type": "markdown",
   "id": "959b2e9c",
   "metadata": {},
   "source": [
    "LR Model"
   ]
  },
  {
   "cell_type": "code",
   "execution_count": 56,
   "id": "c7919022",
   "metadata": {},
   "outputs": [
    {
     "name": "stdout",
     "output_type": "stream",
     "text": [
      "Fitting 5 folds for each of 48 candidates, totalling 240 fits\n",
      "Best Parameters: {'clf__C': 10, 'clf__penalty': 'l2', 'tfidf__min_df': 1, 'tfidf__ngram_range': (1, 1)}\n",
      "\n",
      "Classification Report (Calibrated):\n",
      "              precision    recall  f1-score   support\n",
      "\n",
      "           0       0.98      0.99      0.99       722\n",
      "           1       1.00      0.99      0.99      1109\n",
      "\n",
      "    accuracy                           0.99      1831\n",
      "   macro avg       0.99      0.99      0.99      1831\n",
      "weighted avg       0.99      0.99      0.99      1831\n",
      "\n"
     ]
    },
    {
     "data": {
      "image/png": "[encoded data removed]",
      "text/plain": [
       "<Figure size 800x500 with 1 Axes>"
      ]
     },
     "metadata": {},
     "output_type": "display_data"
    },
    {
     "data": {
      "image/png": "[encoded data removed]",
      "text/plain": [
       "<Figure size 800x500 with 1 Axes>"
      ]
     },
     "metadata": {},
     "output_type": "display_data"
    }
   ],
   "source": [
    "# Split data\n",
    "X_train, X_test, y_train, y_test = train_test_split(\n",
    "    extemely_confident_df['title'], \n",
    "    extemely_confident_df['labels'], \n",
    "    test_size=0.2, \n",
    "    random_state=42, \n",
    "    stratify=extemely_confident_df[\"labels\"]\n",
    ")\n",
    "\n",
    "# Pipeline\n",
    "pipeline = Pipeline([\n",
    "    ('tfidf', TfidfVectorizer()),\n",
    "    ('clf', LogisticRegression(solver='liblinear'))\n",
    "])\n",
    "\n",
    "# Hyperparameter grid\n",
    "param_grid = {\n",
    "    'tfidf__ngram_range': [(1, 1), (1, 2)],\n",
    "    'tfidf__min_df': [1, 3, 5],\n",
    "    'clf__C': [0.01, 0.1, 1, 10],\n",
    "    'clf__penalty': ['l1', 'l2']\n",
    "}\n",
    "\n",
    "# Grid search\n",
    "grid = GridSearchCV(\n",
    "    pipeline, \n",
    "    param_grid, \n",
    "    cv=5, \n",
    "    scoring='roc_auc', \n",
    "    n_jobs=-1, \n",
    "    verbose=1\n",
    ")\n",
    "grid.fit(X_train, y_train)\n",
    "\n",
    "# ✅ Calibrate with Isotonic Regression (fit on test set to avoid train leakage)\n",
    "calibrated_clf = CalibratedClassifierCV(grid.best_estimator_, method='isotonic', cv='prefit')\n",
    "calibrated_clf.fit(X_test, y_test)  # Fit calibration model on held-out test set\n",
    "\n",
    "# Predict probabilities\n",
    "y_proba_cal = calibrated_clf.predict_proba(X_test)[:, 1]\n",
    "y_pred_cal = calibrated_clf.predict(X_test)\n",
    "\n",
    "# Classification report\n",
    "print(\"Best Parameters:\", grid.best_params_)\n",
    "print(\"\\nClassification Report (Calibrated):\")\n",
    "print(classification_report(y_test, y_pred_cal))\n",
    "\n",
    "# ROC Curve\n",
    "fpr, tpr, _ = roc_curve(y_test, y_proba_cal)\n",
    "roc_auc = auc(fpr, tpr)\n",
    "\n",
    "plt.figure(figsize=(8, 5))\n",
    "plt.plot(fpr, tpr, label=f\"ROC AUC = {roc_auc:.2f}\")\n",
    "plt.plot([0, 1], [0, 1], linestyle=\"--\", color=\"gray\")\n",
    "plt.xlabel(\"False Positive Rate\")\n",
    "plt.ylabel(\"True Positive Rate\")\n",
    "plt.title(\"ROC Curve (Calibrated)\")\n",
    "plt.legend(loc=\"lower right\")\n",
    "plt.grid(True)\n",
    "plt.show()\n",
    "\n",
    "# ✅ Calibration Curve\n",
    "prob_true, prob_pred = calibration_curve(y_test, y_proba_cal, n_bins=10)\n",
    "\n",
    "plt.figure(figsize=(8, 5))\n",
    "plt.plot(prob_pred, prob_true, marker='o', label='Calibrated (Isotonic)')\n",
    "plt.plot([0, 1], [0, 1], linestyle='--', color='gray', label='Perfect Calibration')\n",
    "plt.xlabel(\"Mean Predicted Probability\")\n",
    "plt.ylabel(\"Fraction of Positives\")\n",
    "plt.title(\"Calibration Curve\")\n",
    "plt.legend()\n",
    "plt.grid(True)\n",
    "plt.show()\n"
   ]
  },
  {
   "cell_type": "markdown",
   "id": "9e902cbd",
   "metadata": {},
   "source": [
    "The LR Model performs very well on the test set\n",
    "\n",
    "Therefore, let's use this model as a *second opinion* classification for the less confident rows.\n",
    "\n",
    "- Infer on Less confident Zero-Shot classifications\n",
    "- If the average of the inference propensity and Zero-Shot score is >0.5, include the row in the final preprocessed dataset"
   ]
  },
  {
   "cell_type": "markdown",
   "id": "a79f1f14",
   "metadata": {},
   "source": [
    "Infer"
   ]
  },
  {
   "cell_type": "code",
   "execution_count": 59,
   "id": "51ae0441",
   "metadata": {},
   "outputs": [
    {
     "name": "stderr",
     "output_type": "stream",
     "text": [
      "C:\\Users\\james\\AppData\\Local\\Temp\\ipykernel_55984\\686816750.py:1: SettingWithCopyWarning: \n",
      "A value is trying to be set on a copy of a slice from a DataFrame.\n",
      "Try using .loc[row_indexer,col_indexer] = value instead\n",
      "\n",
      "See the caveats in the documentation: https://pandas.pydata.org/pandas-docs/stable/user_guide/indexing.html#returning-a-view-versus-a-copy\n",
      "  less_confident_df['propensity'] = calibrated_clf.predict_proba(less_confident_df['title'])[:,1]\n"
     ]
    }
   ],
   "source": [
    "less_confident_df['propensity'] = calibrated_clf.predict_proba(less_confident_df['title'])[:,1]"
   ]
  },
  {
   "cell_type": "code",
   "execution_count": 60,
   "id": "5923c1ad",
   "metadata": {},
   "outputs": [
    {
     "name": "stderr",
     "output_type": "stream",
     "text": [
      "C:\\Users\\james\\AppData\\Local\\Temp\\ipykernel_55984\\833842052.py:1: SettingWithCopyWarning: \n",
      "A value is trying to be set on a copy of a slice from a DataFrame.\n",
      "Try using .loc[row_indexer,col_indexer] = value instead\n",
      "\n",
      "See the caveats in the documentation: https://pandas.pydata.org/pandas-docs/stable/user_guide/indexing.html#returning-a-view-versus-a-copy\n",
      "  less_confident_df['average_score'] = (less_confident_df['zero_shot_score'] + less_confident_df['propensity']) / 2\n"
     ]
    }
   ],
   "source": [
    "less_confident_df['average_score'] = (less_confident_df['zero_shot_score'] + less_confident_df['propensity']) / 2"
   ]
  },
  {
   "cell_type": "code",
   "execution_count": 61,
   "id": "05562bb5",
   "metadata": {},
   "outputs": [
    {
     "data": {
      "text/html": [
       "<div>\n",
       "<style scoped>\n",
       "    .dataframe tbody tr th:only-of-type {\n",
       "        vertical-align: middle;\n",
       "    }\n",
       "\n",
       "    .dataframe tbody tr th {\n",
       "        vertical-align: top;\n",
       "    }\n",
       "\n",
       "    .dataframe thead th {\n",
       "        text-align: right;\n",
       "    }\n",
       "</style>\n",
       "<table border=\"1\" class=\"dataframe\">\n",
       "  <thead>\n",
       "    <tr style=\"text-align: right;\">\n",
       "      <th></th>\n",
       "      <th>title</th>\n",
       "      <th>has_location</th>\n",
       "      <th>zero_shot_score</th>\n",
       "      <th>propensity</th>\n",
       "      <th>average_score</th>\n",
       "    </tr>\n",
       "  </thead>\n",
       "  <tbody>\n",
       "    <tr>\n",
       "      <th>0</th>\n",
       "      <td>2023 was a year of extreme weather in Southern...</td>\n",
       "      <td>True</td>\n",
       "      <td>0.789863</td>\n",
       "      <td>0.018519</td>\n",
       "      <td>0.404191</td>\n",
       "    </tr>\n",
       "    <tr>\n",
       "      <th>4</th>\n",
       "      <td>Tornados , scorchers and ice storm : Top 10 we...</td>\n",
       "      <td>True</td>\n",
       "      <td>0.986209</td>\n",
       "      <td>0.666667</td>\n",
       "      <td>0.826438</td>\n",
       "    </tr>\n",
       "    <tr>\n",
       "      <th>11</th>\n",
       "      <td>Yellowstone Supervolcano Magma Chamber Is Very...</td>\n",
       "      <td>True</td>\n",
       "      <td>0.967409</td>\n",
       "      <td>0.250000</td>\n",
       "      <td>0.608705</td>\n",
       "    </tr>\n",
       "    <tr>\n",
       "      <th>16</th>\n",
       "      <td>DSWD DROMIC Report on the Tornado Incident in ...</td>\n",
       "      <td>True</td>\n",
       "      <td>0.986278</td>\n",
       "      <td>0.995671</td>\n",
       "      <td>0.990974</td>\n",
       "    </tr>\n",
       "    <tr>\n",
       "      <th>19</th>\n",
       "      <td>New state report : Wildfire smoke increased de...</td>\n",
       "      <td>True</td>\n",
       "      <td>0.964167</td>\n",
       "      <td>0.991453</td>\n",
       "      <td>0.977810</td>\n",
       "    </tr>\n",
       "  </tbody>\n",
       "</table>\n",
       "</div>"
      ],
      "text/plain": [
       "                                                title  has_location  \\\n",
       "0   2023 was a year of extreme weather in Southern...          True   \n",
       "4   Tornados , scorchers and ice storm : Top 10 we...          True   \n",
       "11  Yellowstone Supervolcano Magma Chamber Is Very...          True   \n",
       "16  DSWD DROMIC Report on the Tornado Incident in ...          True   \n",
       "19  New state report : Wildfire smoke increased de...          True   \n",
       "\n",
       "    zero_shot_score  propensity  average_score  \n",
       "0          0.789863    0.018519       0.404191  \n",
       "4          0.986209    0.666667       0.826438  \n",
       "11         0.967409    0.250000       0.608705  \n",
       "16         0.986278    0.995671       0.990974  \n",
       "19         0.964167    0.991453       0.977810  "
      ]
     },
     "execution_count": 61,
     "metadata": {},
     "output_type": "execute_result"
    }
   ],
   "source": [
    "less_confident_df.head()"
   ]
  },
  {
   "cell_type": "code",
   "execution_count": 62,
   "id": "ff865b86",
   "metadata": {},
   "outputs": [
    {
     "data": {
      "text/plain": [
       "<Axes: >"
      ]
     },
     "execution_count": 62,
     "metadata": {},
     "output_type": "execute_result"
    },
    {
     "data": {
      "image/png": "[encoded data removed]",
      "text/plain": [
       "<Figure size 640x480 with 1 Axes>"
      ]
     },
     "metadata": {},
     "output_type": "display_data"
    }
   ],
   "source": [
    "less_confident_df['average_score'].hist(bins=100)"
   ]
  },
  {
   "cell_type": "markdown",
   "id": "9dafe010",
   "metadata": {},
   "source": [
    "Given this new ensemble model. The majority of classifications are above 0.85"
   ]
  },
  {
   "cell_type": "code",
   "execution_count": 75,
   "id": "6222f6c9",
   "metadata": {},
   "outputs": [],
   "source": [
    "preprocessed_df = pd.concat([less_confident_df[less_confident_df['average_score'] > 0.85]['title'], extemely_confident_df['title']])"
   ]
  },
  {
   "cell_type": "code",
   "execution_count": 80,
   "id": "d61a155c",
   "metadata": {},
   "outputs": [
    {
     "name": "stdout",
     "output_type": "stream",
     "text": [
      "<class 'pandas.core.series.Series'>\n",
      "Index: 27533 entries, 16 to 9153\n",
      "Series name: title\n",
      "Non-Null Count  Dtype \n",
      "--------------  ----- \n",
      "27533 non-null  object\n",
      "dtypes: object(1)\n",
      "memory usage: 430.2+ KB\n"
     ]
    }
   ],
   "source": [
    "preprocessed_df.info()"
   ]
  },
  {
   "cell_type": "code",
   "execution_count": 79,
   "id": "1e3a034c",
   "metadata": {},
   "outputs": [],
   "source": [
    "preprocessed_df.to_csv('preprocessed_df.csv', index=False)"
   ]
  }
 ],
 "metadata": {
  "kernelspec": {
   "display_name": "Python 3",
   "language": "python",
   "name": "python3"
  },
  "language_info": {
   "codemirror_mode": {
    "name": "ipython",
    "version": 3
   },
   "file_extension": ".py",
   "mimetype": "text/x-python",
   "name": "python",
   "nbconvert_exporter": "python",
   "pygments_lexer": "ipython3",
   "version": "3.10.11"
  }
 },
 "nbformat": 4,
 "nbformat_minor": 5
}
