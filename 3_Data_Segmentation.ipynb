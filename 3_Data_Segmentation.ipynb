{
 "cells": [
  {
   "cell_type": "code",
   "execution_count": 1,
   "id": "623e7575",
   "metadata": {},
   "outputs": [],
   "source": [
    "# Filter warnings for readability\n",
    "import warnings\n",
    "warnings.filterwarnings('ignore')"
   ]
  },
  {
   "cell_type": "markdown",
   "id": "6a7ee4a8",
   "metadata": {},
   "source": [
    "Imports"
   ]
  },
  {
   "cell_type": "code",
   "execution_count": 2,
   "id": "6800081b",
   "metadata": {},
   "outputs": [
    {
     "name": "stderr",
     "output_type": "stream",
     "text": [
      "W0709 00:36:37.990000 52756 site-packages\\torch\\distributed\\elastic\\multiprocessing\\redirects.py:29] NOTE: Redirects are currently not supported in Windows or MacOs.\n"
     ]
    }
   ],
   "source": [
    "import pandas as pd\n",
    "from transformers import pipeline\n",
    "import torch\n",
    "from wordcloud import WordCloud\n",
    "import yaml\n",
    "\n",
    "with open(\"config.yaml\", \"r\") as file:\n",
    "    config = yaml.safe_load(file)"
   ]
  },
  {
   "cell_type": "markdown",
   "id": "4acec052",
   "metadata": {},
   "source": [
    "Read Preprocessed Data"
   ]
  },
  {
   "cell_type": "code",
   "execution_count": 3,
   "id": "58f0a818",
   "metadata": {},
   "outputs": [],
   "source": [
    "preprocessed_df = pd.read_csv('preprocessed_df.csv')"
   ]
  },
  {
   "cell_type": "code",
   "execution_count": 4,
   "id": "d018b0a2",
   "metadata": {},
   "outputs": [
    {
     "data": {
      "text/html": [
       "<div>\n",
       "<style scoped>\n",
       "    .dataframe tbody tr th:only-of-type {\n",
       "        vertical-align: middle;\n",
       "    }\n",
       "\n",
       "    .dataframe tbody tr th {\n",
       "        vertical-align: top;\n",
       "    }\n",
       "\n",
       "    .dataframe thead th {\n",
       "        text-align: right;\n",
       "    }\n",
       "</style>\n",
       "<table border=\"1\" class=\"dataframe\">\n",
       "  <thead>\n",
       "    <tr style=\"text-align: right;\">\n",
       "      <th></th>\n",
       "      <th>title</th>\n",
       "    </tr>\n",
       "  </thead>\n",
       "  <tbody>\n",
       "    <tr>\n",
       "      <th>0</th>\n",
       "      <td>DSWD DROMIC Report on the Tornado Incident in ...</td>\n",
       "    </tr>\n",
       "    <tr>\n",
       "      <th>1</th>\n",
       "      <td>New state report : Wildfire smoke increased de...</td>\n",
       "    </tr>\n",
       "    <tr>\n",
       "      <th>2</th>\n",
       "      <td>New Year Day flood alerts issued in Cambridges...</td>\n",
       "    </tr>\n",
       "    <tr>\n",
       "      <th>3</th>\n",
       "      <td>Gold Coast flash flooding danger : Weather ale...</td>\n",
       "    </tr>\n",
       "    <tr>\n",
       "      <th>4</th>\n",
       "      <td>Almost 100 , 000 ordered to leave area after J...</td>\n",
       "    </tr>\n",
       "  </tbody>\n",
       "</table>\n",
       "</div>"
      ],
      "text/plain": [
       "                                               title\n",
       "0  DSWD DROMIC Report on the Tornado Incident in ...\n",
       "1  New state report : Wildfire smoke increased de...\n",
       "2  New Year Day flood alerts issued in Cambridges...\n",
       "3  Gold Coast flash flooding danger : Weather ale...\n",
       "4  Almost 100 , 000 ordered to leave area after J..."
      ]
     },
     "execution_count": 4,
     "metadata": {},
     "output_type": "execute_result"
    }
   ],
   "source": [
    "preprocessed_df.head()"
   ]
  },
  {
   "cell_type": "code",
   "execution_count": 5,
   "id": "7508fd4a",
   "metadata": {},
   "outputs": [
    {
     "name": "stdout",
     "output_type": "stream",
     "text": [
      "<class 'pandas.core.frame.DataFrame'>\n",
      "RangeIndex: 27533 entries, 0 to 27532\n",
      "Data columns (total 1 columns):\n",
      " #   Column  Non-Null Count  Dtype \n",
      "---  ------  --------------  ----- \n",
      " 0   title   27533 non-null  object\n",
      "dtypes: object(1)\n",
      "memory usage: 215.2+ KB\n"
     ]
    }
   ],
   "source": [
    "preprocessed_df.info()"
   ]
  },
  {
   "cell_type": "markdown",
   "id": "764aef3a",
   "metadata": {},
   "source": [
    "### __Step 1__: Build a *Multi-Label Zero-Shot-Classifier*"
   ]
  },
  {
   "cell_type": "code",
   "execution_count": null,
   "id": "725df67e",
   "metadata": {},
   "outputs": [
    {
     "name": "stdout",
     "output_type": "stream",
     "text": [
      "Using GPU\n"
     ]
    }
   ],
   "source": [
    "labels = [\"Earthquake\", \"Floods\", \"Volcano\", \"Tornado\", \"Wildfire\"]\n",
    "\n",
    "if torch.cuda.is_available():\n",
    "    print(\"Using GPU\")\n",
    "    classifier = pipeline(\"zero-shot-classification\", model=config['zero_shot_model_gpu'], device=0) # Use GPU\n",
    "    results = classifier(preprocessed_df['title'].tolist()[:100], candidate_labels=labels, batch_size=config['batch_size_gpu'])\n",
    "else:\n",
    "    print(\"Using CPU\")\n",
    "    classifier = pipeline(\"zero-shot-classification\", model=config['zero_shot_model_cpu'], device=-1) # Use CPU\n",
    "    results = classifier(preprocessed_df['title'].tolist(), candidate_labels=labels, batch_size=config['batch_size_cpu'])"
   ]
  },
  {
   "cell_type": "markdown",
   "id": "41a85955",
   "metadata": {},
   "source": [
    "Example Result"
   ]
  },
  {
   "cell_type": "code",
   "execution_count": null,
   "id": "2ceaf700",
   "metadata": {},
   "outputs": [],
   "source": [
    "results[0]"
   ]
  },
  {
   "cell_type": "code",
   "execution_count": 8,
   "id": "5ced8db1",
   "metadata": {},
   "outputs": [
    {
     "ename": "NameError",
     "evalue": "name 'classifier' is not defined",
     "output_type": "error",
     "traceback": [
      "\u001b[1;31m---------------------------------------------------------------------------\u001b[0m",
      "\u001b[1;31mNameError\u001b[0m                                 Traceback (most recent call last)",
      "Cell \u001b[1;32mIn[8], line 2\u001b[0m\n\u001b[0;32m      1\u001b[0m \u001b[38;5;66;03m# Free up CUDA cores:\u001b[39;00m\n\u001b[1;32m----> 2\u001b[0m \u001b[38;5;28;01mdel\u001b[39;00m classifier\n\u001b[0;32m      3\u001b[0m \u001b[38;5;28;01mdel\u001b[39;00m results\n\u001b[0;32m      4\u001b[0m torch\u001b[38;5;241m.\u001b[39mcuda\u001b[38;5;241m.\u001b[39mempty_cache()\n",
      "\u001b[1;31mNameError\u001b[0m: name 'classifier' is not defined"
     ]
    }
   ],
   "source": [
    "# Free up CUDA cores:\n",
    "del classifier\n",
    "del results\n",
    "torch.cuda.empty_cache()\n",
    "torch.cuda.ipc_collect()"
   ]
  },
  {
   "cell_type": "code",
   "execution_count": null,
   "id": "44517e63",
   "metadata": {},
   "outputs": [],
   "source": [
    "parsed = [\n",
    "    {\n",
    "        \"natural_catastrophe_event\": r[\"labels\"][0],\n",
    "        \"zero_shot_score\": r[\"scores\"][0]\n",
    "    }\n",
    "    for r in results\n",
    "]"
   ]
  },
  {
   "cell_type": "code",
   "execution_count": null,
   "id": "0adc6f72",
   "metadata": {},
   "outputs": [],
   "source": [
    "preprocessed_df[[\"natural_catastrophe_event\", \"zero_shot_score\"]] =  pd.DataFrame(parsed)"
   ]
  },
  {
   "cell_type": "code",
   "execution_count": null,
   "id": "c0669a1a",
   "metadata": {},
   "outputs": [],
   "source": [
    "preprocessed_df.head()"
   ]
  },
  {
   "cell_type": "markdown",
   "id": "cd752bef",
   "metadata": {},
   "source": [
    "### Post-Modelling Analysis"
   ]
  },
  {
   "cell_type": "code",
   "execution_count": null,
   "id": "6f8a6cbd",
   "metadata": {},
   "outputs": [],
   "source": [
    "preprocessed_df['natural_catastrophe_event'].value_counts()"
   ]
  },
  {
   "cell_type": "code",
   "execution_count": null,
   "id": "3bedb8da",
   "metadata": {},
   "outputs": [],
   "source": [
    "import matplotlib.pyplot as plt\n",
    "import seaborn as sns\n",
    "\n",
    "# Optional: Set a clean style\n",
    "sns.set(style=\"whitegrid\")\n",
    "\n",
    "# Plot\n",
    "plt.figure(figsize=(10, 6))\n",
    "sns.countplot(\n",
    "    data=preprocessed_df, \n",
    "    x=\"natural_catastrophe_event\", \n",
    "    order=preprocessed_df[\"natural_catastrophe_event\"].value_counts().index,\n",
    "    palette=\"Set2\"\n",
    ")\n",
    "\n",
    "# Add labels and title\n",
    "plt.title(\"Distribution of Predicted Natural Catastrophe Events\", fontsize=16)\n",
    "plt.xlabel(\"Event Type\", fontsize=12)\n",
    "plt.ylabel(\"Number of Articles\", fontsize=12)\n",
    "plt.xticks(rotation=45)\n",
    "plt.tight_layout()\n",
    "plt.show()\n"
   ]
  },
  {
   "cell_type": "code",
   "execution_count": null,
   "id": "7b295835",
   "metadata": {},
   "outputs": [],
   "source": [
    "import matplotlib.pyplot as plt\n",
    "import seaborn as sns\n",
    "\n",
    "# Set plot style\n",
    "sns.set(style=\"whitegrid\")\n",
    "\n",
    "# Create the boxplot\n",
    "plt.figure(figsize=(12, 6))\n",
    "sns.boxplot(\n",
    "    data=preprocessed_df,\n",
    "    x=\"natural_catastrophe_event\",\n",
    "    y=\"zero_shot_score\",\n",
    "    palette=\"Set3\"\n",
    ")\n",
    "\n",
    "# Labeling\n",
    "plt.title(\"Zero-Shot Score Distribution by Natural Catastrophe Event\", fontsize=16)\n",
    "plt.xlabel(\"Natural Catastrophe Event\", fontsize=12)\n",
    "plt.ylabel(\"Zero-Shot Score\", fontsize=12)\n",
    "plt.xticks(rotation=45)\n",
    "plt.tight_layout()\n",
    "plt.show()"
   ]
  },
  {
   "cell_type": "code",
   "execution_count": null,
   "id": "e7507bd2",
   "metadata": {},
   "outputs": [],
   "source": [
    "plt.figure(figsize=(10, 6))\n",
    "sns.kdeplot(preprocessed_df[\"zero_shot_score\"], shade=True, color=\"purple\")\n",
    "\n",
    "plt.title(\"Density of Zero-Shot Classification Scores\", fontsize=16)\n",
    "plt.xlabel(\"Zero-Shot Score\", fontsize=12)\n",
    "plt.ylabel(\"Density\", fontsize=12)\n",
    "plt.grid(True)\n",
    "plt.tight_layout()\n",
    "plt.show()\n"
   ]
  },
  {
   "cell_type": "code",
   "execution_count": null,
   "id": "98bb1700",
   "metadata": {},
   "outputs": [],
   "source": [
    "import matplotlib.pyplot as plt\n",
    "\n",
    "# Filter titles with low confidence\n",
    "low_score_titles = preprocessed_df[preprocessed_df[\"zero_shot_score\"] < 0.4][\"title\"]\n",
    "\n",
    "# Combine all titles into one string\n",
    "text_blob = \" \".join(low_score_titles.astype(str).tolist())\n",
    "\n",
    "# Generate word cloud\n",
    "wordcloud = WordCloud(width=1000, height=500, background_color=\"white\", colormap=\"viridis\").generate(text_blob)\n",
    "\n",
    "# Plot\n",
    "plt.figure(figsize=(12, 6))\n",
    "plt.imshow(wordcloud, interpolation=\"bilinear\")\n",
    "plt.axis(\"off\")\n",
    "plt.title(\"Word Cloud of Titles with Zero-Shot Score < 0.4\", fontsize=16)\n",
    "plt.tight_layout()\n",
    "plt.show()\n"
   ]
  }
 ],
 "metadata": {
  "kernelspec": {
   "display_name": "Python 3",
   "language": "python",
   "name": "python3"
  },
  "language_info": {
   "codemirror_mode": {
    "name": "ipython",
    "version": 3
   },
   "file_extension": ".py",
   "mimetype": "text/x-python",
   "name": "python",
   "nbconvert_exporter": "python",
   "pygments_lexer": "ipython3",
   "version": "3.10.11"
  }
 },
 "nbformat": 4,
 "nbformat_minor": 5
}
