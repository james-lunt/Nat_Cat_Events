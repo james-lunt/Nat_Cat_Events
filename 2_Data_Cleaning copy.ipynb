{
 "cells": [
  {
   "cell_type": "markdown",
   "id": "ade5f2a6",
   "metadata": {},
   "source": [
    "Imports"
   ]
  },
  {
   "cell_type": "code",
   "execution_count": 69,
   "id": "fc88ac2e",
   "metadata": {},
   "outputs": [],
   "source": [
    "# ! pip install datasets"
   ]
  },
  {
   "cell_type": "code",
   "execution_count": 73,
   "id": "392b8c77",
   "metadata": {},
   "outputs": [],
   "source": [
    "# # ! pip install accelerate>=0.26.0\n",
    "# ! pip install transformers[torch]"
   ]
  },
  {
   "cell_type": "code",
   "execution_count": 71,
   "id": "59a641fa",
   "metadata": {},
   "outputs": [],
   "source": [
    "# ! pip uninstall transformers accelerate -y\n",
    "# ! pip install \"transformers[torch]\" \"accelerate>=0.26.0\""
   ]
  },
  {
   "cell_type": "code",
   "execution_count": 72,
   "id": "c170abb2",
   "metadata": {},
   "outputs": [],
   "source": [
    "# ! pip install evaluate"
   ]
  },
  {
   "cell_type": "code",
   "execution_count": 74,
   "id": "d4807d32",
   "metadata": {},
   "outputs": [],
   "source": [
    "# ! pip install spacy\n",
    "# ! python -m spacy download en_core_web_sm"
   ]
  },
  {
   "cell_type": "code",
   "execution_count": 75,
   "id": "dcd5d83d",
   "metadata": {},
   "outputs": [],
   "source": [
    "import pandas as pd\n",
    "from transformers import pipeline\n",
    "import numpy as np\n",
    "from transformers import BertTokenizer, BertForSequenceClassification, Trainer, TrainingArguments,AutoModelForSequenceClassification\n",
    "from datasets import Dataset\n",
    "from sklearn.model_selection import train_test_split\n",
    "import evaluate\n",
    "import spacy\n",
    "import torch\n"
   ]
  },
  {
   "cell_type": "code",
   "execution_count": 84,
   "id": "e85568b9",
   "metadata": {},
   "outputs": [
    {
     "name": "stderr",
     "output_type": "stream",
     "text": [
      "[nltk_data] Downloading package punkt to\n",
      "[nltk_data]     C:\\Users\\james\\AppData\\Roaming\\nltk_data...\n",
      "[nltk_data]   Package punkt is already up-to-date!\n",
      "[nltk_data] Downloading package wordnet to\n",
      "[nltk_data]     C:\\Users\\james\\AppData\\Roaming\\nltk_data...\n",
      "[nltk_data] Downloading package stopwords to\n",
      "[nltk_data]     C:\\Users\\james\\AppData\\Roaming\\nltk_data...\n",
      "[nltk_data]   Unzipping corpora\\stopwords.zip.\n",
      "[nltk_data] Downloading package omw-1.4 to\n",
      "[nltk_data]     C:\\Users\\james\\AppData\\Roaming\\nltk_data...\n"
     ]
    },
    {
     "data": {
      "text/plain": [
       "True"
      ]
     },
     "execution_count": 84,
     "metadata": {},
     "output_type": "execute_result"
    }
   ],
   "source": [
    "import pandas as pd\n",
    "import nltk\n",
    "from nltk.corpus import wordnet\n",
    "from nltk.corpus import stopwords\n",
    "from nltk.stem import PorterStemmer, WordNetLemmatizer\n",
    "from nltk.tokenize import word_tokenize\n",
    "\n",
    "# Download required resources\n",
    "nltk.download('punkt')\n",
    "nltk.download('wordnet')\n",
    "nltk.download('stopwords')\n",
    "nltk.download('omw-1.4')"
   ]
  },
  {
   "cell_type": "code",
   "execution_count": 76,
   "id": "d47fbe45",
   "metadata": {},
   "outputs": [
    {
     "name": "stdout",
     "output_type": "stream",
     "text": [
      "PyTorch version: 2.7.1+cu118\n",
      "CUDA version PyTorch was built with: 11.8\n",
      "Is CUDA available: True\n",
      "CUDA device: Quadro P2000 with Max-Q Design\n"
     ]
    }
   ],
   "source": [
    "print(\"PyTorch version:\", torch.__version__)\n",
    "print(\"CUDA version PyTorch was built with:\", torch.version.cuda)\n",
    "print(\"Is CUDA available:\", torch.cuda.is_available())\n",
    "if torch.cuda.is_available():\n",
    "    print(\"CUDA device:\", torch.cuda.get_device_name(0))"
   ]
  },
  {
   "cell_type": "markdown",
   "id": "e8e65520",
   "metadata": {},
   "source": [
    "#### Read in Dataset"
   ]
  },
  {
   "cell_type": "code",
   "execution_count": 77,
   "id": "2effe2a0",
   "metadata": {},
   "outputs": [],
   "source": [
    "events_df = pd.read_csv('Nat Cat Events.csv')"
   ]
  },
  {
   "cell_type": "markdown",
   "id": "64fb1bcb",
   "metadata": {},
   "source": [
    "#### Only Consider Titles"
   ]
  },
  {
   "cell_type": "code",
   "execution_count": 78,
   "id": "e06c5f65",
   "metadata": {},
   "outputs": [],
   "source": [
    "titles = events_df['title']"
   ]
  },
  {
   "cell_type": "markdown",
   "id": "fc23eb98",
   "metadata": {},
   "source": [
    "#### Remove duplicates & Null values"
   ]
  },
  {
   "cell_type": "code",
   "execution_count": 79,
   "id": "cf90211c",
   "metadata": {},
   "outputs": [],
   "source": [
    "titles = titles.drop_duplicates().reset_index(drop=True)"
   ]
  },
  {
   "cell_type": "code",
   "execution_count": 80,
   "id": "7802fbce",
   "metadata": {},
   "outputs": [],
   "source": [
    "titles = titles.dropna().reset_index(drop=True)"
   ]
  },
  {
   "cell_type": "code",
   "execution_count": 81,
   "id": "dab14738",
   "metadata": {},
   "outputs": [],
   "source": [
    "titles_df = pd.DataFrame(titles)"
   ]
  },
  {
   "cell_type": "markdown",
   "id": "4cfe02fd",
   "metadata": {},
   "source": [
    "#### Step 1: Filter Articles with no Location"
   ]
  },
  {
   "cell_type": "code",
   "execution_count": 96,
   "id": "17e715c1",
   "metadata": {},
   "outputs": [
    {
     "name": "stdout",
     "output_type": "stream",
     "text": [
      "Using trf (GPU Supported)\n"
     ]
    }
   ],
   "source": [
    "if torch.cuda.is_available():\n",
    "    spacy.require_gpu() # Use GPU\n",
    "    nlp = spacy.load(\"en_core_web_trf\")\n",
    "    print(\"Using trf (GPU Supported)\")\n",
    "else:\n",
    "    nlp = spacy.load(\"en_core_web_sm\") # Use CPU\n",
    "    print(\"Using sm\")"
   ]
  },
  {
   "cell_type": "code",
   "execution_count": 22,
   "id": "5745c1c5",
   "metadata": {},
   "outputs": [],
   "source": [
    "# def has_location(title):\n",
    "#     doc = nlp(title)\n",
    "#     return any(ent.label_ in (\"GPE\", \"LOC\") for ent in doc.ents)\n",
    "\n",
    "\n",
    "# has_loc = [has_location(title) for title in titles_df['title'].values]\n",
    "# titles_df['has_loc'] = has_loc"
   ]
  },
  {
   "cell_type": "code",
   "execution_count": null,
   "id": "f95afca2",
   "metadata": {},
   "outputs": [
    {
     "name": "stderr",
     "output_type": "stream",
     "text": [
      "c:\\Users\\james\\AppData\\Local\\Programs\\Python\\Python310\\lib\\site-packages\\thinc\\shims\\pytorch.py:114: FutureWarning: `torch.cuda.amp.autocast(args...)` is deprecated. Please use `torch.amp.autocast('cuda', args...)` instead.\n",
      "  with torch.cuda.amp.autocast(self._mixed_precision):\n"
     ]
    }
   ],
   "source": [
    "# docs = list(nlp.pipe(titles_df['title'].values, batch_size=32))\n",
    "# titles_df['has_loc'] = [any(ent.label_ in (\"GPE\", \"LOC\") for ent in doc.ents) for doc in docs]"
   ]
  },
  {
   "cell_type": "code",
   "execution_count": null,
   "id": "7923b35d",
   "metadata": {},
   "outputs": [],
   "source": [
    "# titles_df.to_csv('titles_df_has_loc.csv', index=False)"
   ]
  },
  {
   "cell_type": "code",
   "execution_count": 82,
   "id": "2fd6a84f",
   "metadata": {},
   "outputs": [],
   "source": [
    "titles_df = pd.read_csv('titles_df_has_loc.csv')"
   ]
  },
  {
   "cell_type": "code",
   "execution_count": 90,
   "id": "e9a06c27",
   "metadata": {},
   "outputs": [],
   "source": [
    "loc_titles_df = titles_df[titles_df['has_loc']]"
   ]
  },
  {
   "cell_type": "markdown",
   "id": "4fe65326",
   "metadata": {},
   "source": [
    "### Step X: Manually filter articles unrelated to Natural Catastrophe's"
   ]
  },
  {
   "cell_type": "code",
   "execution_count": null,
   "id": "53758fe7",
   "metadata": {},
   "outputs": [],
   "source": [
    "# Initialise tools\n",
    "#stemmer = PorterStemmer()\n",
    "lemmatizer = WordNetLemmatizer()\n",
    "stop_words = set(stopwords.words('english'))"
   ]
  },
  {
   "cell_type": "code",
   "execution_count": 86,
   "id": "d1db2fd9",
   "metadata": {},
   "outputs": [],
   "source": [
    "# List of disaster-related keyword\n",
    "disaster_keywords = {\n",
    "    \"earthquake\", \"flood\", \"tsunami\", \"hurricane\", \"cyclone\", \"volcano\",\n",
    "    \"eruption\", \"wildfire\", \"landslide\", \"tornado\", \"avalanche\", \"storm\", \"drought\"\n",
    "}"
   ]
  },
  {
   "cell_type": "code",
   "execution_count": 112,
   "id": "9b084bf1",
   "metadata": {},
   "outputs": [],
   "source": [
    "def preprocess_and_filter(text):\n",
    "    # Tokenize and lowercase\n",
    "    tokens = word_tokenize(text.lower())\n",
    "    # Remove stopwords and non-alphabetic tokens\n",
    "    tokens = [t for t in tokens if t.isalpha() and t not in stop_words]\n",
    "    # Lemmatize only (no stemming)\n",
    "    lemmas = [lemmatizer.lemmatize(t) for t in tokens]\n",
    "    # Check for disaster-related terms\n",
    "    has_disaster_word = any(word in disaster_keywords for word in lemmas)\n",
    "    return ' '.join(lemmas), has_disaster_word"
   ]
  },
  {
   "cell_type": "code",
   "execution_count": 113,
   "id": "771795af",
   "metadata": {},
   "outputs": [
    {
     "name": "stderr",
     "output_type": "stream",
     "text": [
      "C:\\Users\\james\\AppData\\Local\\Temp\\ipykernel_41572\\667380779.py:1: SettingWithCopyWarning: \n",
      "A value is trying to be set on a copy of a slice from a DataFrame.\n",
      "Try using .loc[row_indexer,col_indexer] = value instead\n",
      "\n",
      "See the caveats in the documentation: https://pandas.pydata.org/pandas-docs/stable/user_guide/indexing.html#returning-a-view-versus-a-copy\n",
      "  loc_titles_df[[\"processed_title\", \"is_disaster\"]] = loc_titles_df[\"title\"].apply(\n"
     ]
    }
   ],
   "source": [
    "loc_titles_df[[\"processed_title\", \"is_disaster\"]] = loc_titles_df[\"title\"].apply(\n",
    "    lambda x: pd.Series(preprocess_and_filter(x))\n",
    ")"
   ]
  },
  {
   "cell_type": "code",
   "execution_count": 114,
   "id": "d0ed6890",
   "metadata": {},
   "outputs": [],
   "source": [
    "loc_disaster_titles_df = loc_titles_df[loc_titles_df['is_disaster']]"
   ]
  },
  {
   "cell_type": "code",
   "execution_count": 115,
   "id": "c1fe04fb",
   "metadata": {},
   "outputs": [
    {
     "data": {
      "text/html": [
       "<div>\n",
       "<style scoped>\n",
       "    .dataframe tbody tr th:only-of-type {\n",
       "        vertical-align: middle;\n",
       "    }\n",
       "\n",
       "    .dataframe tbody tr th {\n",
       "        vertical-align: top;\n",
       "    }\n",
       "\n",
       "    .dataframe thead th {\n",
       "        text-align: right;\n",
       "    }\n",
       "</style>\n",
       "<table border=\"1\" class=\"dataframe\">\n",
       "  <thead>\n",
       "    <tr style=\"text-align: right;\">\n",
       "      <th></th>\n",
       "      <th>title</th>\n",
       "      <th>has_loc</th>\n",
       "      <th>processed_title</th>\n",
       "      <th>is_disaster</th>\n",
       "    </tr>\n",
       "  </thead>\n",
       "  <tbody>\n",
       "    <tr>\n",
       "      <th>4</th>\n",
       "      <td>Tornados , scorchers and ice storm : Top 10 we...</td>\n",
       "      <td>True</td>\n",
       "      <td>tornado scorcher ice storm top weather event a...</td>\n",
       "      <td>True</td>\n",
       "    </tr>\n",
       "    <tr>\n",
       "      <th>12</th>\n",
       "      <td>Japan earthquakes : Coastal residents told to ...</td>\n",
       "      <td>True</td>\n",
       "      <td>japan earthquake coastal resident told evacuat...</td>\n",
       "      <td>True</td>\n",
       "    </tr>\n",
       "    <tr>\n",
       "      <th>16</th>\n",
       "      <td>DSWD DROMIC Report on the Tornado Incident in ...</td>\n",
       "      <td>True</td>\n",
       "      <td>dswd dromic report tornado incident brgy rizal...</td>\n",
       "      <td>True</td>\n",
       "    </tr>\n",
       "    <tr>\n",
       "      <th>19</th>\n",
       "      <td>New state report : Wildfire smoke increased de...</td>\n",
       "      <td>True</td>\n",
       "      <td>new state report wildfire smoke increased deat...</td>\n",
       "      <td>True</td>\n",
       "    </tr>\n",
       "    <tr>\n",
       "      <th>23</th>\n",
       "      <td>In Photos : NASA Juno Flies Just 930 Miles Abo...</td>\n",
       "      <td>True</td>\n",
       "      <td>photo nasa juno fly mile volcano jupiter viole...</td>\n",
       "      <td>True</td>\n",
       "    </tr>\n",
       "    <tr>\n",
       "      <th>...</th>\n",
       "      <td>...</td>\n",
       "      <td>...</td>\n",
       "      <td>...</td>\n",
       "      <td>...</td>\n",
       "    </tr>\n",
       "    <tr>\n",
       "      <th>65143</th>\n",
       "      <td>Borno flood committee disburses N18 billion to...</td>\n",
       "      <td>True</td>\n",
       "      <td>borno flood committee disburses billion household</td>\n",
       "      <td>True</td>\n",
       "    </tr>\n",
       "    <tr>\n",
       "      <th>65144</th>\n",
       "      <td>Wild weather and storm chaos puts dampener on ...</td>\n",
       "      <td>True</td>\n",
       "      <td>wild weather storm chaos put dampener scotland...</td>\n",
       "      <td>True</td>\n",
       "    </tr>\n",
       "    <tr>\n",
       "      <th>65145</th>\n",
       "      <td>Mississippi neighbors help each other recover ...</td>\n",
       "      <td>True</td>\n",
       "      <td>mississippi neighbor help recover storm</td>\n",
       "      <td>True</td>\n",
       "    </tr>\n",
       "    <tr>\n",
       "      <th>65151</th>\n",
       "      <td>North Coast braces for potential floods as mor...</td>\n",
       "      <td>True</td>\n",
       "      <td>north coast brace potential flood rain forecas...</td>\n",
       "      <td>True</td>\n",
       "    </tr>\n",
       "    <tr>\n",
       "      <th>65154</th>\n",
       "      <td>Montgomery County crime : Authorities detain d...</td>\n",
       "      <td>True</td>\n",
       "      <td>montgomery county crime authority detain drive...</td>\n",
       "      <td>True</td>\n",
       "    </tr>\n",
       "  </tbody>\n",
       "</table>\n",
       "<p>26185 rows × 4 columns</p>\n",
       "</div>"
      ],
      "text/plain": [
       "                                                   title  has_loc  \\\n",
       "4      Tornados , scorchers and ice storm : Top 10 we...     True   \n",
       "12     Japan earthquakes : Coastal residents told to ...     True   \n",
       "16     DSWD DROMIC Report on the Tornado Incident in ...     True   \n",
       "19     New state report : Wildfire smoke increased de...     True   \n",
       "23     In Photos : NASA Juno Flies Just 930 Miles Abo...     True   \n",
       "...                                                  ...      ...   \n",
       "65143  Borno flood committee disburses N18 billion to...     True   \n",
       "65144  Wild weather and storm chaos puts dampener on ...     True   \n",
       "65145  Mississippi neighbors help each other recover ...     True   \n",
       "65151  North Coast braces for potential floods as mor...     True   \n",
       "65154  Montgomery County crime : Authorities detain d...     True   \n",
       "\n",
       "                                         processed_title  is_disaster  \n",
       "4      tornado scorcher ice storm top weather event a...         True  \n",
       "12     japan earthquake coastal resident told evacuat...         True  \n",
       "16     dswd dromic report tornado incident brgy rizal...         True  \n",
       "19     new state report wildfire smoke increased deat...         True  \n",
       "23     photo nasa juno fly mile volcano jupiter viole...         True  \n",
       "...                                                  ...          ...  \n",
       "65143  borno flood committee disburses billion household         True  \n",
       "65144  wild weather storm chaos put dampener scotland...         True  \n",
       "65145            mississippi neighbor help recover storm         True  \n",
       "65151  north coast brace potential flood rain forecas...         True  \n",
       "65154  montgomery county crime authority detain drive...         True  \n",
       "\n",
       "[26185 rows x 4 columns]"
      ]
     },
     "execution_count": 115,
     "metadata": {},
     "output_type": "execute_result"
    }
   ],
   "source": [
    "loc_disaster_titles_df"
   ]
  },
  {
   "cell_type": "markdown",
   "id": "9ac9f261",
   "metadata": {},
   "source": [
    "### Step X: Find articles of event's that have occurred"
   ]
  },
  {
   "cell_type": "code",
   "execution_count": 116,
   "id": "727b8d96",
   "metadata": {},
   "outputs": [
    {
     "name": "stderr",
     "output_type": "stream",
     "text": [
      "c:\\Users\\james\\AppData\\Local\\Programs\\Python\\Python310\\lib\\site-packages\\thinc\\shims\\pytorch.py:114: FutureWarning: `torch.cuda.amp.autocast(args...)` is deprecated. Please use `torch.amp.autocast('cuda', args...)` instead.\n",
      "  with torch.cuda.amp.autocast(self._mixed_precision):\n",
      "C:\\Users\\james\\AppData\\Local\\Temp\\ipykernel_41572\\151705521.py:2: SettingWithCopyWarning: \n",
      "A value is trying to be set on a copy of a slice from a DataFrame.\n",
      "Try using .loc[row_indexer,col_indexer] = value instead\n",
      "\n",
      "See the caveats in the documentation: https://pandas.pydata.org/pandas-docs/stable/user_guide/indexing.html#returning-a-view-versus-a-copy\n",
      "  loc_disaster_titles_df['has_occurred'] = [any(ent.label_ in (\"DATE\") for ent in doc.ents) for doc in docs]\n"
     ]
    }
   ],
   "source": [
    "docs = list(nlp.pipe(loc_disaster_titles_df['title'].values, batch_size=32))\n",
    "loc_disaster_titles_df['has_occurred'] = [any(ent.label_ in (\"DATE\") for ent in doc.ents) for doc in docs]"
   ]
  },
  {
   "cell_type": "code",
   "execution_count": null,
   "id": "d04f8f41",
   "metadata": {},
   "outputs": [],
   "source": [
    "# docs = list(nlp.pipe(loc_disaster_titles_df['title'].values, batch_size=32))\n",
    "# loc_disaster_titles_df['occurrence_and_location'] = [any(ent.label_ in (\"DATE\") for ent in doc.ents)\n",
    "#                                                and any(ent.label_ in (\"GPE\", \"LOC\") for ent in doc.ents)\n",
    "#                                               for doc in docs]"
   ]
  },
  {
   "cell_type": "code",
   "execution_count": 117,
   "id": "57cb825e",
   "metadata": {},
   "outputs": [
    {
     "data": {
      "text/html": [
       "<div>\n",
       "<style scoped>\n",
       "    .dataframe tbody tr th:only-of-type {\n",
       "        vertical-align: middle;\n",
       "    }\n",
       "\n",
       "    .dataframe tbody tr th {\n",
       "        vertical-align: top;\n",
       "    }\n",
       "\n",
       "    .dataframe thead th {\n",
       "        text-align: right;\n",
       "    }\n",
       "</style>\n",
       "<table border=\"1\" class=\"dataframe\">\n",
       "  <thead>\n",
       "    <tr style=\"text-align: right;\">\n",
       "      <th></th>\n",
       "      <th>title</th>\n",
       "      <th>has_loc</th>\n",
       "      <th>processed_title</th>\n",
       "      <th>is_disaster</th>\n",
       "      <th>has_occurred</th>\n",
       "    </tr>\n",
       "  </thead>\n",
       "  <tbody>\n",
       "    <tr>\n",
       "      <th>16</th>\n",
       "      <td>DSWD DROMIC Report on the Tornado Incident in ...</td>\n",
       "      <td>True</td>\n",
       "      <td>dswd dromic report tornado incident brgy rizal...</td>\n",
       "      <td>True</td>\n",
       "      <td>True</td>\n",
       "    </tr>\n",
       "    <tr>\n",
       "      <th>24</th>\n",
       "      <td>2023 finishes as 3rd warmest in central Indian...</td>\n",
       "      <td>True</td>\n",
       "      <td>finish warmest central indiana tornado statewi...</td>\n",
       "      <td>True</td>\n",
       "      <td>True</td>\n",
       "    </tr>\n",
       "    <tr>\n",
       "      <th>45</th>\n",
       "      <td>Factbox - Major earthquakes in Japan since Kob...</td>\n",
       "      <td>True</td>\n",
       "      <td>factbox major earthquake japan since kobe disa...</td>\n",
       "      <td>True</td>\n",
       "      <td>True</td>\n",
       "    </tr>\n",
       "    <tr>\n",
       "      <th>54</th>\n",
       "      <td>Indonesia , Floods and Landslides in Pasaman (...</td>\n",
       "      <td>True</td>\n",
       "      <td>indonesia flood landslide pasaman west sumater...</td>\n",
       "      <td>True</td>\n",
       "      <td>True</td>\n",
       "    </tr>\n",
       "    <tr>\n",
       "      <th>128</th>\n",
       "      <td>Not Over Yet : More earthquakes of 7 magnitude...</td>\n",
       "      <td>True</td>\n",
       "      <td>yet earthquake magnitude strike japan week</td>\n",
       "      <td>True</td>\n",
       "      <td>True</td>\n",
       "    </tr>\n",
       "    <tr>\n",
       "      <th>...</th>\n",
       "      <td>...</td>\n",
       "      <td>...</td>\n",
       "      <td>...</td>\n",
       "      <td>...</td>\n",
       "      <td>...</td>\n",
       "    </tr>\n",
       "    <tr>\n",
       "      <th>65120</th>\n",
       "      <td>13 confirmed tornadoes in Alabama on Saturday ...</td>\n",
       "      <td>True</td>\n",
       "      <td>confirmed tornado alabama saturday national we...</td>\n",
       "      <td>True</td>\n",
       "      <td>True</td>\n",
       "    </tr>\n",
       "    <tr>\n",
       "      <th>65121</th>\n",
       "      <td>Dickinson hit hardest by Saturday tornadoes , ...</td>\n",
       "      <td>True</td>\n",
       "      <td>dickinson hit hardest saturday tornado weather...</td>\n",
       "      <td>True</td>\n",
       "      <td>True</td>\n",
       "    </tr>\n",
       "    <tr>\n",
       "      <th>65142</th>\n",
       "      <td>Harrison County EMA , Gulfport city leaders as...</td>\n",
       "      <td>True</td>\n",
       "      <td>harrison county ema gulfport city leader asses...</td>\n",
       "      <td>True</td>\n",
       "      <td>True</td>\n",
       "    </tr>\n",
       "    <tr>\n",
       "      <th>65144</th>\n",
       "      <td>Wild weather and storm chaos puts dampener on ...</td>\n",
       "      <td>True</td>\n",
       "      <td>wild weather storm chaos put dampener scotland...</td>\n",
       "      <td>True</td>\n",
       "      <td>True</td>\n",
       "    </tr>\n",
       "    <tr>\n",
       "      <th>65151</th>\n",
       "      <td>North Coast braces for potential floods as mor...</td>\n",
       "      <td>True</td>\n",
       "      <td>north coast brace potential flood rain forecas...</td>\n",
       "      <td>True</td>\n",
       "      <td>True</td>\n",
       "    </tr>\n",
       "  </tbody>\n",
       "</table>\n",
       "<p>4027 rows × 5 columns</p>\n",
       "</div>"
      ],
      "text/plain": [
       "                                                   title  has_loc  \\\n",
       "16     DSWD DROMIC Report on the Tornado Incident in ...     True   \n",
       "24     2023 finishes as 3rd warmest in central Indian...     True   \n",
       "45     Factbox - Major earthquakes in Japan since Kob...     True   \n",
       "54     Indonesia , Floods and Landslides in Pasaman (...     True   \n",
       "128    Not Over Yet : More earthquakes of 7 magnitude...     True   \n",
       "...                                                  ...      ...   \n",
       "65120  13 confirmed tornadoes in Alabama on Saturday ...     True   \n",
       "65121  Dickinson hit hardest by Saturday tornadoes , ...     True   \n",
       "65142  Harrison County EMA , Gulfport city leaders as...     True   \n",
       "65144  Wild weather and storm chaos puts dampener on ...     True   \n",
       "65151  North Coast braces for potential floods as mor...     True   \n",
       "\n",
       "                                         processed_title  is_disaster  \\\n",
       "16     dswd dromic report tornado incident brgy rizal...         True   \n",
       "24     finish warmest central indiana tornado statewi...         True   \n",
       "45     factbox major earthquake japan since kobe disa...         True   \n",
       "54     indonesia flood landslide pasaman west sumater...         True   \n",
       "128           yet earthquake magnitude strike japan week         True   \n",
       "...                                                  ...          ...   \n",
       "65120  confirmed tornado alabama saturday national we...         True   \n",
       "65121  dickinson hit hardest saturday tornado weather...         True   \n",
       "65142  harrison county ema gulfport city leader asses...         True   \n",
       "65144  wild weather storm chaos put dampener scotland...         True   \n",
       "65151  north coast brace potential flood rain forecas...         True   \n",
       "\n",
       "       has_occurred  \n",
       "16             True  \n",
       "24             True  \n",
       "45             True  \n",
       "54             True  \n",
       "128            True  \n",
       "...             ...  \n",
       "65120          True  \n",
       "65121          True  \n",
       "65142          True  \n",
       "65144          True  \n",
       "65151          True  \n",
       "\n",
       "[4027 rows x 5 columns]"
      ]
     },
     "execution_count": 117,
     "metadata": {},
     "output_type": "execute_result"
    }
   ],
   "source": [
    "loc_disaster_titles_df[loc_disaster_titles_df['has_occurred']]"
   ]
  },
  {
   "cell_type": "code",
   "execution_count": 106,
   "id": "43822988",
   "metadata": {},
   "outputs": [],
   "source": [
    "loc_disaster_occurred_titles_df = loc_disaster_titles_df[loc_disaster_titles_df['has_occurred']]"
   ]
  },
  {
   "cell_type": "code",
   "execution_count": 109,
   "id": "145659a5",
   "metadata": {},
   "outputs": [],
   "source": [
    "loc_disaster_occurred_titles_df.to_csv('loc_disaster_occurred_titles_df.csv', index=False)"
   ]
  },
  {
   "cell_type": "code",
   "execution_count": null,
   "id": "b3510357",
   "metadata": {},
   "outputs": [],
   "source": [
    "# ##### Experiment #######\n",
    "# def nlp_check_title_criteria(title):\n",
    "#     doc = nlp(title)\n",
    "#     return any(ent.label_ in [\"DATE\"] for ent in doc.ents) and any(ent.label_ in (\"GPE\", \"LOC\") for ent in doc.ents) for doc in docs\n",
    "\n",
    "# docs = list(nlp.pipe(loc_disaster_titles_df['title'].values, batch_size=32))\n",
    "# loc_disaster_titles_df['has_occurred'] = [any(ent.label_ in (\"DATE\") for ent in doc.ents)\n",
    "#                                               and any(ent.label_ in (\"GPE\", \"LOC\") for ent in doc.ents)\n",
    "#                                               for doc in docs]"
   ]
  },
  {
   "cell_type": "markdown",
   "id": "73b04d4d",
   "metadata": {},
   "source": [
    "#### Step X: Build supervised-model to evaluate any edge cases NLP might have missed"
   ]
  },
  {
   "cell_type": "markdown",
   "id": "7283358e",
   "metadata": {},
   "source": [
    "Sample False population Dataset"
   ]
  },
  {
   "cell_type": "code",
   "execution_count": 110,
   "id": "753f6894",
   "metadata": {},
   "outputs": [],
   "source": [
    "sample_size = len(loc_disaster_occurred_titles_df)\n",
    "df_remaining = titles_df[~titles_df.index.isin(loc_disaster_occurred_titles_df.index)]\n",
    "false_pop = df_remaining.sample(n=sample_size, random_state=42)\n",
    "\n",
    "# Optional: reset index if needed\n",
    "# df_sampled = df_sampled.reset_index(drop=True)"
   ]
  },
  {
   "cell_type": "code",
   "execution_count": 111,
   "id": "7e69ecba",
   "metadata": {},
   "outputs": [
    {
     "data": {
      "text/html": [
       "<div>\n",
       "<style scoped>\n",
       "    .dataframe tbody tr th:only-of-type {\n",
       "        vertical-align: middle;\n",
       "    }\n",
       "\n",
       "    .dataframe tbody tr th {\n",
       "        vertical-align: top;\n",
       "    }\n",
       "\n",
       "    .dataframe thead th {\n",
       "        text-align: right;\n",
       "    }\n",
       "</style>\n",
       "<table border=\"1\" class=\"dataframe\">\n",
       "  <thead>\n",
       "    <tr style=\"text-align: right;\">\n",
       "      <th></th>\n",
       "      <th>title</th>\n",
       "      <th>has_loc</th>\n",
       "      <th>processed_title</th>\n",
       "      <th>is_disaster</th>\n",
       "    </tr>\n",
       "  </thead>\n",
       "  <tbody>\n",
       "    <tr>\n",
       "      <th>10548</th>\n",
       "      <td>Nisqually quake hit 23 years ago</td>\n",
       "      <td>False</td>\n",
       "      <td>nisqual quak hit year ago</td>\n",
       "      <td>False</td>\n",
       "    </tr>\n",
       "    <tr>\n",
       "      <th>14060</th>\n",
       "      <td>Houston hail threat increases for Thursday ; H...</td>\n",
       "      <td>True</td>\n",
       "      <td>houston hail threat increas thursday know</td>\n",
       "      <td>False</td>\n",
       "    </tr>\n",
       "    <tr>\n",
       "      <th>12442</th>\n",
       "      <td>Get the umbrella ready for later this week</td>\n",
       "      <td>False</td>\n",
       "      <td>get umbrella readi later week</td>\n",
       "      <td>False</td>\n",
       "    </tr>\n",
       "    <tr>\n",
       "      <th>4054</th>\n",
       "      <td>At least 50 injured in major earthquake on Chi...</td>\n",
       "      <td>True</td>\n",
       "      <td>least injur major earthquak china kyrgyzstan b...</td>\n",
       "      <td>False</td>\n",
       "    </tr>\n",
       "    <tr>\n",
       "      <th>4712</th>\n",
       "      <td>Filipina among 4 bodies recovered from Hawaii ...</td>\n",
       "      <td>True</td>\n",
       "      <td>filipina among bodi recov hawaii wildfir</td>\n",
       "      <td>False</td>\n",
       "    </tr>\n",
       "    <tr>\n",
       "      <th>...</th>\n",
       "      <td>...</td>\n",
       "      <td>...</td>\n",
       "      <td>...</td>\n",
       "      <td>...</td>\n",
       "    </tr>\n",
       "    <tr>\n",
       "      <th>26255</th>\n",
       "      <td>More rain , less heat ! Tracking a stormier pa...</td>\n",
       "      <td>False</td>\n",
       "      <td>rain le heat track stormier pattern weekend de...</td>\n",
       "      <td>False</td>\n",
       "    </tr>\n",
       "    <tr>\n",
       "      <th>25644</th>\n",
       "      <td>Quebec homeowner recalls moment tornado hit hi...</td>\n",
       "      <td>True</td>\n",
       "      <td>quebec homeown recal moment tornado hit farmho...</td>\n",
       "      <td>True</td>\n",
       "    </tr>\n",
       "    <tr>\n",
       "      <th>43438</th>\n",
       "      <td>Fatal fire - ABC7 New York</td>\n",
       "      <td>False</td>\n",
       "      <td>fatal fire new york</td>\n",
       "      <td>False</td>\n",
       "    </tr>\n",
       "    <tr>\n",
       "      <th>31185</th>\n",
       "      <td>Policy Brief : As Wildfires Grow More Intense ...</td>\n",
       "      <td>True</td>\n",
       "      <td>polici brief wildfir grow intens ai could next...</td>\n",
       "      <td>False</td>\n",
       "    </tr>\n",
       "    <tr>\n",
       "      <th>12670</th>\n",
       "      <td>Study : Our coast is sinking &amp; sea levels are ...</td>\n",
       "      <td>False</td>\n",
       "      <td>studi coast sink sea level rise prompt call ac...</td>\n",
       "      <td>False</td>\n",
       "    </tr>\n",
       "  </tbody>\n",
       "</table>\n",
       "<p>2947 rows × 4 columns</p>\n",
       "</div>"
      ],
      "text/plain": [
       "                                                   title  has_loc  \\\n",
       "10548                   Nisqually quake hit 23 years ago    False   \n",
       "14060  Houston hail threat increases for Thursday ; H...     True   \n",
       "12442         Get the umbrella ready for later this week    False   \n",
       "4054   At least 50 injured in major earthquake on Chi...     True   \n",
       "4712   Filipina among 4 bodies recovered from Hawaii ...     True   \n",
       "...                                                  ...      ...   \n",
       "26255  More rain , less heat ! Tracking a stormier pa...    False   \n",
       "25644  Quebec homeowner recalls moment tornado hit hi...     True   \n",
       "43438                         Fatal fire - ABC7 New York    False   \n",
       "31185  Policy Brief : As Wildfires Grow More Intense ...     True   \n",
       "12670  Study : Our coast is sinking & sea levels are ...    False   \n",
       "\n",
       "                                         processed_title  is_disaster  \n",
       "10548                          nisqual quak hit year ago        False  \n",
       "14060          houston hail threat increas thursday know        False  \n",
       "12442                      get umbrella readi later week        False  \n",
       "4054   least injur major earthquak china kyrgyzstan b...        False  \n",
       "4712            filipina among bodi recov hawaii wildfir        False  \n",
       "...                                                  ...          ...  \n",
       "26255  rain le heat track stormier pattern weekend de...        False  \n",
       "25644  quebec homeown recal moment tornado hit farmho...         True  \n",
       "43438                                fatal fire new york        False  \n",
       "31185  polici brief wildfir grow intens ai could next...        False  \n",
       "12670  studi coast sink sea level rise prompt call ac...        False  \n",
       "\n",
       "[2947 rows x 4 columns]"
      ]
     },
     "execution_count": 111,
     "metadata": {},
     "output_type": "execute_result"
    }
   ],
   "source": [
    "false_pop"
   ]
  },
  {
   "cell_type": "code",
   "execution_count": null,
   "id": "4c9af496",
   "metadata": {},
   "outputs": [],
   "source": [
    "import pandas as pd\n",
    "import matplotlib.pyplot as plt\n",
    "from sklearn.model_selection import train_test_split, GridSearchCV\n",
    "from sklearn.pipeline import Pipeline\n",
    "from sklearn.feature_extraction.text import TfidfVectorizer\n",
    "from sklearn.linear_model import LogisticRegression\n",
    "from sklearn.calibration import CalibratedClassifierCV, calibration_curve\n",
    "from sklearn.metrics import classification_report, roc_curve, auc"
   ]
  },
  {
   "cell_type": "code",
   "execution_count": null,
   "id": "b20f4d47",
   "metadata": {},
   "outputs": [],
   "source": [
    "\n",
    "\n",
    "# Split data\n",
    "X_train, X_test, y_train, y_test = train_test_split(\n",
    "    loc_disaster_occurred_titles_df['title'], \n",
    "    loc_disaster_occurred_titles_df['natural_catastrophe_event'], \n",
    "    test_size=0.2, \n",
    "    random_state=42, \n",
    "    stratify=confident_df[\"natural_catastrophe_event\"]\n",
    ")\n",
    "\n",
    "# Pipeline\n",
    "pipeline = Pipeline([\n",
    "    ('tfidf', TfidfVectorizer()),\n",
    "    ('clf', LogisticRegression(solver='liblinear'))\n",
    "])\n",
    "\n",
    "# Hyperparameter grid\n",
    "param_grid = {\n",
    "    'tfidf__ngram_range': [(1, 1), (1, 2)],\n",
    "    'tfidf__min_df': [1, 3, 5],\n",
    "    'clf__C': [0.01, 0.1, 1, 10],\n",
    "    'clf__penalty': ['l1', 'l2']\n",
    "}\n",
    "\n",
    "# Grid search\n",
    "grid = GridSearchCV(\n",
    "    pipeline, \n",
    "    param_grid, \n",
    "    cv=5, \n",
    "    scoring='roc_auc', \n",
    "    n_jobs=-1, \n",
    "    verbose=1\n",
    ")\n",
    "grid.fit(X_train, y_train)\n",
    "\n",
    "# ✅ Calibrate with Isotonic Regression (fit on test set to avoid train leakage)\n",
    "calibrated_clf = CalibratedClassifierCV(grid.best_estimator_, method='isotonic', cv='prefit')\n",
    "calibrated_clf.fit(X_test, y_test)  # Fit calibration model on held-out test set\n",
    "\n",
    "# Predict probabilities\n",
    "y_proba_cal = calibrated_clf.predict_proba(X_test)[:, 1]\n",
    "y_pred_cal = calibrated_clf.predict(X_test)\n",
    "\n",
    "# Classification report\n",
    "print(\"Best Parameters:\", grid.best_params_)\n",
    "print(\"\\nClassification Report (Calibrated):\")\n",
    "print(classification_report(y_test, y_pred_cal))\n",
    "\n",
    "# ROC Curve\n",
    "fpr, tpr, _ = roc_curve(y_test, y_proba_cal)\n",
    "roc_auc = auc(fpr, tpr)\n",
    "\n",
    "plt.figure(figsize=(8, 5))\n",
    "plt.plot(fpr, tpr, label=f\"ROC AUC = {roc_auc:.2f}\")\n",
    "plt.plot([0, 1], [0, 1], linestyle=\"--\", color=\"gray\")\n",
    "plt.xlabel(\"False Positive Rate\")\n",
    "plt.ylabel(\"True Positive Rate\")\n",
    "plt.title(\"ROC Curve (Calibrated)\")\n",
    "plt.legend(loc=\"lower right\")\n",
    "plt.grid(True)\n",
    "plt.show()\n",
    "\n",
    "# ✅ Calibration Curve\n",
    "prob_true, prob_pred = calibration_curve(y_test, y_proba_cal, n_bins=10)\n",
    "\n",
    "plt.figure(figsize=(8, 5))\n",
    "plt.plot(prob_pred, prob_true, marker='o', label='Calibrated (Isotonic)')\n",
    "plt.plot([0, 1], [0, 1], linestyle='--', color='gray', label='Perfect Calibration')\n",
    "plt.xlabel(\"Mean Predicted Probability\")\n",
    "plt.ylabel(\"Fraction of Positives\")\n",
    "plt.title(\"Calibration Curve\")\n",
    "plt.legend()\n",
    "plt.grid(True)\n",
    "plt.show()\n"
   ]
  },
  {
   "cell_type": "markdown",
   "id": "cba87317",
   "metadata": {},
   "source": [
    "Use a Zero-Shot-Classifier to capture confidence of a title implying a natural catastrophe event"
   ]
  },
  {
   "cell_type": "code",
   "execution_count": null,
   "id": "905d5c45",
   "metadata": {},
   "outputs": [
    {
     "name": "stderr",
     "output_type": "stream",
     "text": [
      "Device set to use cuda:0\n"
     ]
    }
   ],
   "source": [
    "if torch.cuda.is_available():\n",
    "    classifier = pipeline(\"zero-shot-classification\", model=\"facebook/bart-large-mnli\", device=0) # Use GPU\n",
    "else:\n",
    "    classifier = pipeline(\"zero-shot-classification\", model=\"facebook/bart-large-mnli\") # Use CPU"
   ]
  },
  {
   "cell_type": "code",
   "execution_count": 15,
   "id": "c56576a1",
   "metadata": {},
   "outputs": [],
   "source": [
    "labels = [\"natural catastrophe event\"]\n",
    "# CPU\n",
    "#results = classifier(titles_df['title'].tolist(), candidate_labels=labels, batch_size=32)\n",
    "# GPU\n",
    "results = classifier(titles_df['title'].tolist(), candidate_labels=labels, batch_size=64, device=0)"
   ]
  },
  {
   "cell_type": "code",
   "execution_count": 16,
   "id": "8506432f",
   "metadata": {},
   "outputs": [],
   "source": [
    "label_confidences = []\n",
    "\n",
    "for i in results:\n",
    "    label_confidences.append(i['scores'][0])"
   ]
  },
  {
   "cell_type": "markdown",
   "id": "0aac2848",
   "metadata": {},
   "source": [
    "Save Titles with confidence labels"
   ]
  },
  {
   "cell_type": "code",
   "execution_count": 17,
   "id": "b5a6ed1f",
   "metadata": {},
   "outputs": [],
   "source": [
    "titles_df['nce_label_confidence'] = label_confidences\n",
    "titles_df.to_csv('titles_with_label_confidences.csv', index=False)"
   ]
  },
  {
   "cell_type": "code",
   "execution_count": 2,
   "id": "4123da1f",
   "metadata": {},
   "outputs": [],
   "source": [
    "titles_df = pd.read_csv('titles_with_label_confidences.csv')"
   ]
  },
  {
   "cell_type": "code",
   "execution_count": 68,
   "id": "a75ffa53",
   "metadata": {},
   "outputs": [
    {
     "data": {
      "text/html": [
       "<div>\n",
       "<style scoped>\n",
       "    .dataframe tbody tr th:only-of-type {\n",
       "        vertical-align: middle;\n",
       "    }\n",
       "\n",
       "    .dataframe tbody tr th {\n",
       "        vertical-align: top;\n",
       "    }\n",
       "\n",
       "    .dataframe thead th {\n",
       "        text-align: right;\n",
       "    }\n",
       "</style>\n",
       "<table border=\"1\" class=\"dataframe\">\n",
       "  <thead>\n",
       "    <tr style=\"text-align: right;\">\n",
       "      <th></th>\n",
       "      <th>title</th>\n",
       "      <th>has_loc</th>\n",
       "    </tr>\n",
       "  </thead>\n",
       "  <tbody>\n",
       "    <tr>\n",
       "      <th>0</th>\n",
       "      <td>2023 was a year of extreme weather in Southern...</td>\n",
       "      <td>True</td>\n",
       "    </tr>\n",
       "    <tr>\n",
       "      <th>1</th>\n",
       "      <td>HAWAIIAN VOLCANO OBSERVATORY DAILY UPDATE Mond...</td>\n",
       "      <td>False</td>\n",
       "    </tr>\n",
       "    <tr>\n",
       "      <th>2</th>\n",
       "      <td>How to Protect Your Family from Tornadoes</td>\n",
       "      <td>False</td>\n",
       "    </tr>\n",
       "    <tr>\n",
       "      <th>3</th>\n",
       "      <td>Iceland volcanoes bring tourists to island cou...</td>\n",
       "      <td>False</td>\n",
       "    </tr>\n",
       "    <tr>\n",
       "      <th>4</th>\n",
       "      <td>Tornados , scorchers and ice storm : Top 10 we...</td>\n",
       "      <td>True</td>\n",
       "    </tr>\n",
       "  </tbody>\n",
       "</table>\n",
       "</div>"
      ],
      "text/plain": [
       "                                               title  has_loc\n",
       "0  2023 was a year of extreme weather in Southern...     True\n",
       "1  HAWAIIAN VOLCANO OBSERVATORY DAILY UPDATE Mond...    False\n",
       "2          How to Protect Your Family from Tornadoes    False\n",
       "3  Iceland volcanoes bring tourists to island cou...    False\n",
       "4  Tornados , scorchers and ice storm : Top 10 we...     True"
      ]
     },
     "execution_count": 68,
     "metadata": {},
     "output_type": "execute_result"
    }
   ],
   "source": [
    "titles_df.head()"
   ]
  },
  {
   "cell_type": "code",
   "execution_count": 4,
   "id": "618f3933",
   "metadata": {},
   "outputs": [
    {
     "data": {
      "text/plain": [
       "<Axes: >"
      ]
     },
     "execution_count": 4,
     "metadata": {},
     "output_type": "execute_result"
    },
    {
     "data": {
      "image/png": "[encoded data removed]",
      "text/plain": [
       "<Figure size 640x480 with 1 Axes>"
      ]
     },
     "metadata": {},
     "output_type": "display_data"
    }
   ],
   "source": [
    "titles_df['nce_label_confidence'].hist(bins=20)"
   ]
  },
  {
   "cell_type": "markdown",
   "id": "396616b4",
   "metadata": {},
   "source": [
    "From this histogram we can see that the majority of predictions are < 0.05 or > 0.95"
   ]
  },
  {
   "cell_type": "markdown",
   "id": "3938afb0",
   "metadata": {},
   "source": [
    "### Step 3: Build Classifier to infer on Edge cases"
   ]
  },
  {
   "cell_type": "markdown",
   "id": "e461d7d4",
   "metadata": {},
   "source": [
    "#### Now Let's build a supervised-classifier using these Zero-Shot-Classifier confident predictions to build a predictor for the unconfident Zero-Shot-Classifier predictions"
   ]
  },
  {
   "cell_type": "markdown",
   "id": "b183e823",
   "metadata": {},
   "source": [
    "We will Fine-Tune a pre-trained BERT model"
   ]
  },
  {
   "cell_type": "markdown",
   "id": "07f65b7d",
   "metadata": {},
   "source": [
    "Prepare Dataset"
   ]
  },
  {
   "cell_type": "code",
   "execution_count": 5,
   "id": "295bbc01",
   "metadata": {},
   "outputs": [],
   "source": [
    "# Take rows of confident predictions\n",
    "confident_df = titles_df[(titles_df['nce_label_confidence'] > 0.95) | (titles_df['nce_label_confidence'] < 0.05)]\n",
    "# Take rows of uncofident predictions for later inference\n",
    "unconfident_df = titles_df[(titles_df['nce_label_confidence'] < 0.95) & (titles_df['nce_label_confidence'] > 0.05)]"
   ]
  },
  {
   "cell_type": "code",
   "execution_count": 6,
   "id": "985cd74e",
   "metadata": {},
   "outputs": [
    {
     "name": "stderr",
     "output_type": "stream",
     "text": [
      "C:\\Users\\james\\AppData\\Local\\Temp\\ipykernel_41572\\2027430008.py:2: SettingWithCopyWarning: \n",
      "A value is trying to be set on a copy of a slice from a DataFrame.\n",
      "Try using .loc[row_indexer,col_indexer] = value instead\n",
      "\n",
      "See the caveats in the documentation: https://pandas.pydata.org/pandas-docs/stable/user_guide/indexing.html#returning-a-view-versus-a-copy\n",
      "  confident_df['natural_catastrophe_event'] = np.where(confident_df['nce_label_confidence'] > 0.95, 1, np.where(confident_df['nce_label_confidence'] < 0.05, 0, np.nan)).astype(int)\n"
     ]
    }
   ],
   "source": [
    "# Create binary label for training\n",
    "confident_df['natural_catastrophe_event'] = np.where(confident_df['nce_label_confidence'] > 0.95, 1, np.where(confident_df['nce_label_confidence'] < 0.05, 0, np.nan)).astype(int)"
   ]
  },
  {
   "cell_type": "code",
   "execution_count": 7,
   "id": "83636286",
   "metadata": {},
   "outputs": [
    {
     "name": "stdout",
     "output_type": "stream",
     "text": [
      "<class 'pandas.core.frame.DataFrame'>\n",
      "Index: 37297 entries, 4 to 65157\n",
      "Data columns (total 3 columns):\n",
      " #   Column                     Non-Null Count  Dtype  \n",
      "---  ------                     --------------  -----  \n",
      " 0   title                      37297 non-null  object \n",
      " 1   nce_label_confidence       37297 non-null  float64\n",
      " 2   natural_catastrophe_event  37297 non-null  int32  \n",
      "dtypes: float64(1), int32(1), object(1)\n",
      "memory usage: 1019.8+ KB\n"
     ]
    }
   ],
   "source": [
    "confident_df.info()"
   ]
  },
  {
   "cell_type": "markdown",
   "id": "29594275",
   "metadata": {},
   "source": [
    "Train Test Split"
   ]
  },
  {
   "cell_type": "code",
   "execution_count": 34,
   "id": "9241aeb2",
   "metadata": {},
   "outputs": [],
   "source": [
    "confident_df = confident_df.reset_index(drop=True)\n",
    "train_df, test_df = train_test_split(confident_df, test_size=0.2, random_state=42, stratify=confident_df[\"natural_catastrophe_event\"])"
   ]
  },
  {
   "cell_type": "markdown",
   "id": "4a0a0285",
   "metadata": {},
   "source": [
    "Using `title` as the independent variable and `natural_catastrophe_event` as the target variable"
   ]
  },
  {
   "cell_type": "markdown",
   "id": "603b4aa6",
   "metadata": {},
   "source": [
    "LR Model"
   ]
  },
  {
   "cell_type": "code",
   "execution_count": null,
   "id": "3ea00937",
   "metadata": {},
   "outputs": [
    {
     "name": "stdout",
     "output_type": "stream",
     "text": [
      "Fitting 5 folds for each of 48 candidates, totalling 240 fits\n",
      "Best Parameters: {'clf__C': 10, 'clf__penalty': 'l2', 'tfidf__min_df': 3, 'tfidf__ngram_range': (1, 2)}\n",
      "\n",
      "Classification Report (Calibrated):\n",
      "              precision    recall  f1-score   support\n",
      "\n",
      "           0       0.98      0.99      0.98      3581\n",
      "           1       0.99      0.98      0.98      3879\n",
      "\n",
      "    accuracy                           0.98      7460\n",
      "   macro avg       0.98      0.98      0.98      7460\n",
      "weighted avg       0.98      0.98      0.98      7460\n",
      "\n"
     ]
    },
    {
     "data": {
      "image/png": "[encoded data removed]",
      "text/plain": [
       "<Figure size 800x500 with 1 Axes>"
      ]
     },
     "metadata": {},
     "output_type": "display_data"
    },
    {
     "data": {
      "image/png": "[encoded data removed]",
      "text/plain": [
       "<Figure size 800x500 with 1 Axes>"
      ]
     },
     "metadata": {},
     "output_type": "display_data"
    }
   ],
   "source": [
    "import pandas as pd\n",
    "import matplotlib.pyplot as plt\n",
    "from sklearn.model_selection import train_test_split, GridSearchCV\n",
    "from sklearn.pipeline import Pipeline\n",
    "from sklearn.feature_extraction.text import TfidfVectorizer\n",
    "from sklearn.linear_model import LogisticRegression\n",
    "from sklearn.calibration import CalibratedClassifierCV, calibration_curve\n",
    "from sklearn.metrics import classification_report, roc_curve, auc\n",
    "\n",
    "# Split data\n",
    "X_train, X_test, y_train, y_test = train_test_split(\n",
    "    titles_df['title'], \n",
    "    confident_df['natural_catastrophe_event'], \n",
    "    test_size=0.2, \n",
    "    random_state=42, \n",
    "    stratify=confident_df[\"natural_catastrophe_event\"]\n",
    ")\n",
    "\n",
    "# Pipeline\n",
    "pipeline = Pipeline([\n",
    "    ('tfidf', TfidfVectorizer()),\n",
    "    ('clf', LogisticRegression(solver='liblinear'))\n",
    "])\n",
    "\n",
    "# Hyperparameter grid\n",
    "param_grid = {\n",
    "    'tfidf__ngram_range': [(1, 1), (1, 2)],\n",
    "    'tfidf__min_df': [1, 3, 5],\n",
    "    'clf__C': [0.01, 0.1, 1, 10],\n",
    "    'clf__penalty': ['l1', 'l2']\n",
    "}\n",
    "\n",
    "# Grid search\n",
    "grid = GridSearchCV(\n",
    "    pipeline, \n",
    "    param_grid, \n",
    "    cv=5, \n",
    "    scoring='roc_auc', \n",
    "    n_jobs=-1, \n",
    "    verbose=1\n",
    ")\n",
    "grid.fit(X_train, y_train)\n",
    "\n",
    "# ✅ Calibrate with Isotonic Regression (fit on test set to avoid train leakage)\n",
    "calibrated_clf = CalibratedClassifierCV(grid.best_estimator_, method='isotonic', cv='prefit')\n",
    "calibrated_clf.fit(X_test, y_test)  # Fit calibration model on held-out test set\n",
    "\n",
    "# Predict probabilities\n",
    "y_proba_cal = calibrated_clf.predict_proba(X_test)[:, 1]\n",
    "y_pred_cal = calibrated_clf.predict(X_test)\n",
    "\n",
    "# Classification report\n",
    "print(\"Best Parameters:\", grid.best_params_)\n",
    "print(\"\\nClassification Report (Calibrated):\")\n",
    "print(classification_report(y_test, y_pred_cal))\n",
    "\n",
    "# ROC Curve\n",
    "fpr, tpr, _ = roc_curve(y_test, y_proba_cal)\n",
    "roc_auc = auc(fpr, tpr)\n",
    "\n",
    "plt.figure(figsize=(8, 5))\n",
    "plt.plot(fpr, tpr, label=f\"ROC AUC = {roc_auc:.2f}\")\n",
    "plt.plot([0, 1], [0, 1], linestyle=\"--\", color=\"gray\")\n",
    "plt.xlabel(\"False Positive Rate\")\n",
    "plt.ylabel(\"True Positive Rate\")\n",
    "plt.title(\"ROC Curve (Calibrated)\")\n",
    "plt.legend(loc=\"lower right\")\n",
    "plt.grid(True)\n",
    "plt.show()\n",
    "\n",
    "# ✅ Calibration Curve\n",
    "prob_true, prob_pred = calibration_curve(y_test, y_proba_cal, n_bins=10)\n",
    "\n",
    "plt.figure(figsize=(8, 5))\n",
    "plt.plot(prob_pred, prob_true, marker='o', label='Calibrated (Isotonic)')\n",
    "plt.plot([0, 1], [0, 1], linestyle='--', color='gray', label='Perfect Calibration')\n",
    "plt.xlabel(\"Mean Predicted Probability\")\n",
    "plt.ylabel(\"Fraction of Positives\")\n",
    "plt.title(\"Calibration Curve\")\n",
    "plt.legend()\n",
    "plt.grid(True)\n",
    "plt.show()\n"
   ]
  },
  {
   "cell_type": "code",
   "execution_count": 61,
   "id": "e74b4e9c",
   "metadata": {},
   "outputs": [
    {
     "data": {
      "text/html": [
       "<style>#sk-container-id-5 {color: black;background-color: white;}#sk-container-id-5 pre{padding: 0;}#sk-container-id-5 div.sk-toggleable {background-color: white;}#sk-container-id-5 label.sk-toggleable__label {cursor: pointer;display: block;width: 100%;margin-bottom: 0;padding: 0.3em;box-sizing: border-box;text-align: center;}#sk-container-id-5 label.sk-toggleable__label-arrow:before {content: \"▸\";float: left;margin-right: 0.25em;color: #696969;}#sk-container-id-5 label.sk-toggleable__label-arrow:hover:before {color: black;}#sk-container-id-5 div.sk-estimator:hover label.sk-toggleable__label-arrow:before {color: black;}#sk-container-id-5 div.sk-toggleable__content {max-height: 0;max-width: 0;overflow: hidden;text-align: left;background-color: #f0f8ff;}#sk-container-id-5 div.sk-toggleable__content pre {margin: 0.2em;color: black;border-radius: 0.25em;background-color: #f0f8ff;}#sk-container-id-5 input.sk-toggleable__control:checked~div.sk-toggleable__content {max-height: 200px;max-width: 100%;overflow: auto;}#sk-container-id-5 input.sk-toggleable__control:checked~label.sk-toggleable__label-arrow:before {content: \"▾\";}#sk-container-id-5 div.sk-estimator input.sk-toggleable__control:checked~label.sk-toggleable__label {background-color: #d4ebff;}#sk-container-id-5 div.sk-label input.sk-toggleable__control:checked~label.sk-toggleable__label {background-color: #d4ebff;}#sk-container-id-5 input.sk-hidden--visually {border: 0;clip: rect(1px 1px 1px 1px);clip: rect(1px, 1px, 1px, 1px);height: 1px;margin: -1px;overflow: hidden;padding: 0;position: absolute;width: 1px;}#sk-container-id-5 div.sk-estimator {font-family: monospace;background-color: #f0f8ff;border: 1px dotted black;border-radius: 0.25em;box-sizing: border-box;margin-bottom: 0.5em;}#sk-container-id-5 div.sk-estimator:hover {background-color: #d4ebff;}#sk-container-id-5 div.sk-parallel-item::after {content: \"\";width: 100%;border-bottom: 1px solid gray;flex-grow: 1;}#sk-container-id-5 div.sk-label:hover label.sk-toggleable__label {background-color: #d4ebff;}#sk-container-id-5 div.sk-serial::before {content: \"\";position: absolute;border-left: 1px solid gray;box-sizing: border-box;top: 0;bottom: 0;left: 50%;z-index: 0;}#sk-container-id-5 div.sk-serial {display: flex;flex-direction: column;align-items: center;background-color: white;padding-right: 0.2em;padding-left: 0.2em;position: relative;}#sk-container-id-5 div.sk-item {position: relative;z-index: 1;}#sk-container-id-5 div.sk-parallel {display: flex;align-items: stretch;justify-content: center;background-color: white;position: relative;}#sk-container-id-5 div.sk-item::before, #sk-container-id-5 div.sk-parallel-item::before {content: \"\";position: absolute;border-left: 1px solid gray;box-sizing: border-box;top: 0;bottom: 0;left: 50%;z-index: -1;}#sk-container-id-5 div.sk-parallel-item {display: flex;flex-direction: column;z-index: 1;position: relative;background-color: white;}#sk-container-id-5 div.sk-parallel-item:first-child::after {align-self: flex-end;width: 50%;}#sk-container-id-5 div.sk-parallel-item:last-child::after {align-self: flex-start;width: 50%;}#sk-container-id-5 div.sk-parallel-item:only-child::after {width: 0;}#sk-container-id-5 div.sk-dashed-wrapped {border: 1px dashed gray;margin: 0 0.4em 0.5em 0.4em;box-sizing: border-box;padding-bottom: 0.4em;background-color: white;}#sk-container-id-5 div.sk-label label {font-family: monospace;font-weight: bold;display: inline-block;line-height: 1.2em;}#sk-container-id-5 div.sk-label-container {text-align: center;}#sk-container-id-5 div.sk-container {/* jupyter's `normalize.less` sets `[hidden] { display: none; }` but bootstrap.min.css set `[hidden] { display: none !important; }` so we also need the `!important` here to be able to override the default hidden behavior on the sphinx rendered scikit-learn.org. See: https://github.com/scikit-learn/scikit-learn/issues/21755 */display: inline-block !important;position: relative;}#sk-container-id-5 div.sk-text-repr-fallback {display: none;}</style><div id=\"sk-container-id-5\" class=\"sk-top-container\"><div class=\"sk-text-repr-fallback\"><pre>CalibratedClassifierCV(cv=&#x27;prefit&#x27;,\n",
       "                       estimator=Pipeline(steps=[(&#x27;tfidf&#x27;,\n",
       "                                                  TfidfVectorizer(min_df=3,\n",
       "                                                                  ngram_range=(1,\n",
       "                                                                               2))),\n",
       "                                                 (&#x27;clf&#x27;,\n",
       "                                                  LogisticRegression(C=10,\n",
       "                                                                     solver=&#x27;liblinear&#x27;))]),\n",
       "                       method=&#x27;isotonic&#x27;)</pre><b>In a Jupyter environment, please rerun this cell to show the HTML representation or trust the notebook. <br />On GitHub, the HTML representation is unable to render, please try loading this page with nbviewer.org.</b></div><div class=\"sk-container\" hidden><div class=\"sk-item sk-dashed-wrapped\"><div class=\"sk-label-container\"><div class=\"sk-label sk-toggleable\"><input class=\"sk-toggleable__control sk-hidden--visually\" id=\"sk-estimator-id-14\" type=\"checkbox\" ><label for=\"sk-estimator-id-14\" class=\"sk-toggleable__label sk-toggleable__label-arrow\">CalibratedClassifierCV</label><div class=\"sk-toggleable__content\"><pre>CalibratedClassifierCV(cv=&#x27;prefit&#x27;,\n",
       "                       estimator=Pipeline(steps=[(&#x27;tfidf&#x27;,\n",
       "                                                  TfidfVectorizer(min_df=3,\n",
       "                                                                  ngram_range=(1,\n",
       "                                                                               2))),\n",
       "                                                 (&#x27;clf&#x27;,\n",
       "                                                  LogisticRegression(C=10,\n",
       "                                                                     solver=&#x27;liblinear&#x27;))]),\n",
       "                       method=&#x27;isotonic&#x27;)</pre></div></div></div><div class=\"sk-parallel\"><div class=\"sk-parallel-item\"><div class=\"sk-item\"><div class=\"sk-label-container\"><div class=\"sk-label sk-toggleable\"><input class=\"sk-toggleable__control sk-hidden--visually\" id=\"sk-estimator-id-15\" type=\"checkbox\" ><label for=\"sk-estimator-id-15\" class=\"sk-toggleable__label sk-toggleable__label-arrow\">estimator: Pipeline</label><div class=\"sk-toggleable__content\"><pre>Pipeline(steps=[(&#x27;tfidf&#x27;, TfidfVectorizer(min_df=3, ngram_range=(1, 2))),\n",
       "                (&#x27;clf&#x27;, LogisticRegression(C=10, solver=&#x27;liblinear&#x27;))])</pre></div></div></div><div class=\"sk-serial\"><div class=\"sk-item\"><div class=\"sk-serial\"><div class=\"sk-item\"><div class=\"sk-estimator sk-toggleable\"><input class=\"sk-toggleable__control sk-hidden--visually\" id=\"sk-estimator-id-16\" type=\"checkbox\" ><label for=\"sk-estimator-id-16\" class=\"sk-toggleable__label sk-toggleable__label-arrow\">TfidfVectorizer</label><div class=\"sk-toggleable__content\"><pre>TfidfVectorizer(min_df=3, ngram_range=(1, 2))</pre></div></div></div><div class=\"sk-item\"><div class=\"sk-estimator sk-toggleable\"><input class=\"sk-toggleable__control sk-hidden--visually\" id=\"sk-estimator-id-17\" type=\"checkbox\" ><label for=\"sk-estimator-id-17\" class=\"sk-toggleable__label sk-toggleable__label-arrow\">LogisticRegression</label><div class=\"sk-toggleable__content\"><pre>LogisticRegression(C=10, solver=&#x27;liblinear&#x27;)</pre></div></div></div></div></div></div></div></div></div></div></div></div>"
      ],
      "text/plain": [
       "CalibratedClassifierCV(cv='prefit',\n",
       "                       estimator=Pipeline(steps=[('tfidf',\n",
       "                                                  TfidfVectorizer(min_df=3,\n",
       "                                                                  ngram_range=(1,\n",
       "                                                                               2))),\n",
       "                                                 ('clf',\n",
       "                                                  LogisticRegression(C=10,\n",
       "                                                                     solver='liblinear'))]),\n",
       "                       method='isotonic')"
      ]
     },
     "execution_count": 61,
     "metadata": {},
     "output_type": "execute_result"
    }
   ],
   "source": [
    "calibrated_clf"
   ]
  },
  {
   "cell_type": "code",
   "execution_count": 62,
   "id": "ebab576a",
   "metadata": {},
   "outputs": [
    {
     "data": {
      "text/plain": [
       "array([1, 0, 1, ..., 1, 1, 0])"
      ]
     },
     "execution_count": 62,
     "metadata": {},
     "output_type": "execute_result"
    }
   ],
   "source": [
    "calibrated_clf.predict(unconfident_df['title'])"
   ]
  },
  {
   "cell_type": "code",
   "execution_count": 64,
   "id": "8e28522b",
   "metadata": {},
   "outputs": [
    {
     "data": {
      "text/plain": [
       "'HAWAIIAN VOLCANO OBSERVATORY DAILY UPDATE Monday , January 1 , 2024 , 19 : 00 UTC | USGS Hazard Notification System ( HANS ) for Volcanoes'"
      ]
     },
     "execution_count": 64,
     "metadata": {},
     "output_type": "execute_result"
    }
   ],
   "source": [
    "unconfident_df['title'][1]"
   ]
  },
  {
   "cell_type": "code",
   "execution_count": 11,
   "id": "4dea2bf2",
   "metadata": {},
   "outputs": [],
   "source": [
    "# Set target variable to 'labels' for training compatibility\n",
    "train_df = train_df.rename(columns={\"natural_catastrophe_event\": \"labels\"})\n",
    "test_df = test_df.rename(columns={\"natural_catastrophe_event\": \"labels\"})"
   ]
  },
  {
   "cell_type": "code",
   "execution_count": 12,
   "id": "269ac3f9",
   "metadata": {},
   "outputs": [
    {
     "name": "stderr",
     "output_type": "stream",
     "text": [
      "c:\\Users\\james\\AppData\\Local\\Programs\\Python\\Python310\\lib\\site-packages\\huggingface_hub\\file_download.py:943: FutureWarning: `resume_download` is deprecated and will be removed in version 1.0.0. Downloads always resume when possible. If you want to force a new download, use `force_download=True`.\n",
      "  warnings.warn(\n",
      "Map: 100%|██████████| 29837/29837 [00:14<00:00, 2100.56 examples/s]\n",
      "Map: 100%|██████████| 7460/7460 [00:03<00:00, 2118.47 examples/s]\n"
     ]
    }
   ],
   "source": [
    "train_dataset = Dataset.from_pandas(train_df[['title', 'labels']])\n",
    "test_dataset = Dataset.from_pandas(test_df[['title', 'labels']])\n",
    "\n",
    "# Tokenize\n",
    "tokenizer = BertTokenizer.from_pretrained(\"bert-base-uncased\")\n",
    "def tokenize(example): return tokenizer(example[\"title\"], truncation=True, padding=\"max_length\")\n",
    "tokenized_train = train_dataset.map(tokenize, batched=True)\n",
    "tokenized_test = test_dataset.map(tokenize, batched=True)"
   ]
  },
  {
   "cell_type": "code",
   "execution_count": 13,
   "id": "bd0503c3",
   "metadata": {},
   "outputs": [
    {
     "data": {
      "text/plain": [
       "Dataset({\n",
       "    features: ['title', 'labels', '__index_level_0__', 'input_ids', 'token_type_ids', 'attention_mask'],\n",
       "    num_rows: 29837\n",
       "})"
      ]
     },
     "execution_count": 13,
     "metadata": {},
     "output_type": "execute_result"
    }
   ],
   "source": [
    "tokenized_train"
   ]
  },
  {
   "cell_type": "code",
   "execution_count": 14,
   "id": "c90c5f51",
   "metadata": {},
   "outputs": [],
   "source": [
    "# # Rename label column to 'labels' for Trainer compatibility\n",
    "# tokenized_train = train_dataset.rename_column(\"natural_catastrophe_event\", \"labels\")\n",
    "# # Set format for PyTorch\n",
    "# tokenized_train.set_format(\"torch\", columns=[\"input_ids\", \"attention_mask\", \"labels\"])\n",
    "\n",
    "# # And for the test set\n",
    "# tokenized_test = train_dataset.rename_column(\"natural_catastrophe_event\", \"labels\")\n",
    "# tokenized_test.set_format(\"torch\", columns=[\"input_ids\", \"attention_mask\", \"labels\"])"
   ]
  },
  {
   "cell_type": "code",
   "execution_count": 22,
   "id": "842b069d",
   "metadata": {},
   "outputs": [
    {
     "name": "stderr",
     "output_type": "stream",
     "text": [
      "c:\\Users\\james\\AppData\\Local\\Programs\\Python\\Python310\\lib\\site-packages\\huggingface_hub\\file_download.py:143: UserWarning: `huggingface_hub` cache-system uses symlinks by default to efficiently store duplicated files but your machine does not support them in C:\\Users\\james\\.cache\\huggingface\\hub\\models--nreimers--MiniLM-L6-H384-uncased. Caching files will still work but in a degraded version that might require more space on your disk. This warning can be disabled by setting the `HF_HUB_DISABLE_SYMLINKS_WARNING` environment variable. For more details, see https://huggingface.co/docs/huggingface_hub/how-to-cache#limitations.\n",
      "To support symlinks on Windows, you either need to activate Developer Mode or to run Python as an administrator. In order to activate developer mode, see this article: https://docs.microsoft.com/en-us/windows/apps/get-started/enable-your-device-for-development\n",
      "  warnings.warn(message)\n",
      "Some weights of BertForSequenceClassification were not initialized from the model checkpoint at nreimers/MiniLM-L6-H384-uncased and are newly initialized: ['classifier.bias', 'classifier.weight']\n",
      "You should probably TRAIN this model on a down-stream task to be able to use it for predictions and inference.\n"
     ]
    }
   ],
   "source": [
    "# Load model\n",
    "#model = BertForSequenceClassification.from_pretrained(\"bert-base-uncased\", num_labels=2)\n",
    "\n",
    "model = AutoModelForSequenceClassification.from_pretrained(\"nreimers/MiniLM-L6-H384-uncased\", num_labels=2)"
   ]
  },
  {
   "cell_type": "code",
   "execution_count": 23,
   "id": "595a0eb4",
   "metadata": {},
   "outputs": [],
   "source": [
    "# Train\n",
    "training_args = TrainingArguments(\n",
    "    output_dir=\"./results\",\n",
    "    num_train_epochs=1,\n",
    "    per_device_train_batch_size=32,\n",
    "    per_device_eval_batch_size=16,\n",
    "    evaluation_strategy=\"epoch\",  # Evaluate at end of each epoch\n",
    "    logging_dir=\"./logs\",\n",
    "    logging_steps=1,\n",
    "    save_strategy=\"epoch\",        # Save checkpoint every epoch\n",
    "    load_best_model_at_end=True,  # Load best model at end based on eval metric\n",
    "    metric_for_best_model=\"roc_auc\",\n",
    "    greater_is_better=True,\n",
    "    no_cuda=False,\n",
    "    fp16=True # Speed up training\n",
    ")"
   ]
  },
  {
   "cell_type": "code",
   "execution_count": 24,
   "id": "6a4f3b36",
   "metadata": {},
   "outputs": [],
   "source": [
    "metric = evaluate.load(\"roc_auc\")\n",
    "\n",
    "def compute_metrics(eval_pred):\n",
    "    logits, labels = eval_pred\n",
    "    probs = np.exp(logits) / np.exp(logits).sum(axis=-1, keepdims=True)  # softmax\n",
    "    pos_probs = probs[:, 1]  # probability of class 1\n",
    "    return metric.compute(prediction_scores=pos_probs, references=labels)\n",
    "\n",
    "trainer = Trainer(model=model, args=training_args, train_dataset=tokenized_train, eval_dataset=tokenized_test, compute_metrics=compute_metrics)\n"
   ]
  },
  {
   "cell_type": "code",
   "execution_count": 25,
   "id": "c4c01c35",
   "metadata": {},
   "outputs": [
    {
     "name": "stderr",
     "output_type": "stream",
     "text": [
      "  1%|          | 8/933 [09:21<18:01:10, 70.13s/it]\n",
      "  0%|          | 1/933 [00:13<3:21:30, 12.97s/it]"
     ]
    },
    {
     "name": "stdout",
     "output_type": "stream",
     "text": [
      "{'loss': 0.6934, 'learning_rate': 4.9946409431939984e-05, 'epoch': 0.0}\n"
     ]
    },
    {
     "name": "stderr",
     "output_type": "stream",
     "text": [
      "  0%|          | 2/933 [00:27<3:32:59, 13.73s/it]"
     ]
    },
    {
     "name": "stdout",
     "output_type": "stream",
     "text": [
      "{'loss': 0.697, 'learning_rate': 4.989281886387996e-05, 'epoch': 0.0}\n"
     ]
    },
    {
     "name": "stderr",
     "output_type": "stream",
     "text": [
      "  0%|          | 3/933 [00:42<3:39:33, 14.17s/it]"
     ]
    },
    {
     "name": "stdout",
     "output_type": "stream",
     "text": [
      "{'loss': 0.6928, 'learning_rate': 4.983922829581994e-05, 'epoch': 0.0}\n"
     ]
    },
    {
     "name": "stderr",
     "output_type": "stream",
     "text": [
      "  0%|          | 4/933 [00:56<3:41:42, 14.32s/it]"
     ]
    },
    {
     "name": "stdout",
     "output_type": "stream",
     "text": [
      "{'loss': 0.6876, 'learning_rate': 4.9785637727759915e-05, 'epoch': 0.0}\n"
     ]
    },
    {
     "name": "stderr",
     "output_type": "stream",
     "text": [
      "  1%|          | 5/933 [01:11<3:45:26, 14.58s/it]"
     ]
    },
    {
     "name": "stdout",
     "output_type": "stream",
     "text": [
      "{'loss': 0.7053, 'learning_rate': 4.9732047159699896e-05, 'epoch': 0.01}\n"
     ]
    },
    {
     "name": "stderr",
     "output_type": "stream",
     "text": [
      "  1%|          | 6/933 [01:25<3:42:43, 14.42s/it]"
     ]
    },
    {
     "name": "stdout",
     "output_type": "stream",
     "text": [
      "{'loss': 0.7023, 'learning_rate': 4.967845659163987e-05, 'epoch': 0.01}\n"
     ]
    },
    {
     "name": "stderr",
     "output_type": "stream",
     "text": [
      "  1%|          | 7/933 [01:40<3:45:20, 14.60s/it]"
     ]
    },
    {
     "name": "stdout",
     "output_type": "stream",
     "text": [
      "{'loss': 0.6916, 'learning_rate': 4.962486602357985e-05, 'epoch': 0.01}\n"
     ]
    },
    {
     "name": "stderr",
     "output_type": "stream",
     "text": [
      "  1%|          | 8/933 [01:55<3:46:11, 14.67s/it]"
     ]
    },
    {
     "name": "stdout",
     "output_type": "stream",
     "text": [
      "{'loss': 0.6915, 'learning_rate': 4.9571275455519834e-05, 'epoch': 0.01}\n"
     ]
    },
    {
     "name": "stderr",
     "output_type": "stream",
     "text": [
      "  1%|          | 9/933 [02:10<3:46:31, 14.71s/it]"
     ]
    },
    {
     "name": "stdout",
     "output_type": "stream",
     "text": [
      "{'loss': 0.6953, 'learning_rate': 4.951768488745981e-05, 'epoch': 0.01}\n"
     ]
    },
    {
     "name": "stderr",
     "output_type": "stream",
     "text": [
      "  1%|          | 10/933 [02:24<3:44:51, 14.62s/it]"
     ]
    },
    {
     "name": "stdout",
     "output_type": "stream",
     "text": [
      "{'loss': 0.7028, 'learning_rate': 4.946409431939979e-05, 'epoch': 0.01}\n"
     ]
    },
    {
     "name": "stderr",
     "output_type": "stream",
     "text": [
      "  1%|          | 11/933 [02:38<3:42:28, 14.48s/it]"
     ]
    },
    {
     "name": "stdout",
     "output_type": "stream",
     "text": [
      "{'loss': 0.6886, 'learning_rate': 4.9410503751339765e-05, 'epoch': 0.01}\n"
     ]
    },
    {
     "name": "stderr",
     "output_type": "stream",
     "text": [
      "  1%|▏         | 12/933 [02:53<3:44:23, 14.62s/it]"
     ]
    },
    {
     "name": "stdout",
     "output_type": "stream",
     "text": [
      "{'loss': 0.6893, 'learning_rate': 4.9356913183279746e-05, 'epoch': 0.01}\n"
     ]
    },
    {
     "name": "stderr",
     "output_type": "stream",
     "text": [
      "  1%|▏         | 13/933 [03:09<3:49:09, 14.94s/it]"
     ]
    },
    {
     "name": "stdout",
     "output_type": "stream",
     "text": [
      "{'loss': 0.6869, 'learning_rate': 4.930332261521972e-05, 'epoch': 0.01}\n"
     ]
    },
    {
     "name": "stderr",
     "output_type": "stream",
     "text": [
      "  2%|▏         | 14/933 [03:23<3:45:49, 14.74s/it]"
     ]
    },
    {
     "name": "stdout",
     "output_type": "stream",
     "text": [
      "{'loss': 0.6852, 'learning_rate': 4.92497320471597e-05, 'epoch': 0.02}\n"
     ]
    },
    {
     "name": "stderr",
     "output_type": "stream",
     "text": [
      "  2%|▏         | 15/933 [03:37<3:42:53, 14.57s/it]"
     ]
    },
    {
     "name": "stdout",
     "output_type": "stream",
     "text": [
      "{'loss': 0.6769, 'learning_rate': 4.9196141479099684e-05, 'epoch': 0.02}\n"
     ]
    },
    {
     "ename": "KeyboardInterrupt",
     "evalue": "",
     "output_type": "error",
     "traceback": [
      "\u001b[1;31m---------------------------------------------------------------------------\u001b[0m",
      "\u001b[1;31mKeyboardInterrupt\u001b[0m                         Traceback (most recent call last)",
      "Cell \u001b[1;32mIn[25], line 1\u001b[0m\n\u001b[1;32m----> 1\u001b[0m \u001b[43mtrainer\u001b[49m\u001b[38;5;241;43m.\u001b[39;49m\u001b[43mtrain\u001b[49m\u001b[43m(\u001b[49m\u001b[43m)\u001b[49m\n",
      "File \u001b[1;32mc:\\Users\\james\\AppData\\Local\\Programs\\Python\\Python310\\lib\\site-packages\\transformers\\trainer.py:1539\u001b[0m, in \u001b[0;36mTrainer.train\u001b[1;34m(self, resume_from_checkpoint, trial, ignore_keys_for_eval, **kwargs)\u001b[0m\n\u001b[0;32m   1537\u001b[0m         hf_hub_utils\u001b[38;5;241m.\u001b[39menable_progress_bars()\n\u001b[0;32m   1538\u001b[0m \u001b[38;5;28;01melse\u001b[39;00m:\n\u001b[1;32m-> 1539\u001b[0m     \u001b[38;5;28;01mreturn\u001b[39;00m \u001b[43minner_training_loop\u001b[49m\u001b[43m(\u001b[49m\n\u001b[0;32m   1540\u001b[0m \u001b[43m        \u001b[49m\u001b[43margs\u001b[49m\u001b[38;5;241;43m=\u001b[39;49m\u001b[43margs\u001b[49m\u001b[43m,\u001b[49m\n\u001b[0;32m   1541\u001b[0m \u001b[43m        \u001b[49m\u001b[43mresume_from_checkpoint\u001b[49m\u001b[38;5;241;43m=\u001b[39;49m\u001b[43mresume_from_checkpoint\u001b[49m\u001b[43m,\u001b[49m\n\u001b[0;32m   1542\u001b[0m \u001b[43m        \u001b[49m\u001b[43mtrial\u001b[49m\u001b[38;5;241;43m=\u001b[39;49m\u001b[43mtrial\u001b[49m\u001b[43m,\u001b[49m\n\u001b[0;32m   1543\u001b[0m \u001b[43m        \u001b[49m\u001b[43mignore_keys_for_eval\u001b[49m\u001b[38;5;241;43m=\u001b[39;49m\u001b[43mignore_keys_for_eval\u001b[49m\u001b[43m,\u001b[49m\n\u001b[0;32m   1544\u001b[0m \u001b[43m    \u001b[49m\u001b[43m)\u001b[49m\n",
      "File \u001b[1;32mc:\\Users\\james\\AppData\\Local\\Programs\\Python\\Python310\\lib\\site-packages\\transformers\\trainer.py:1869\u001b[0m, in \u001b[0;36mTrainer._inner_training_loop\u001b[1;34m(self, batch_size, args, resume_from_checkpoint, trial, ignore_keys_for_eval)\u001b[0m\n\u001b[0;32m   1866\u001b[0m     \u001b[38;5;28mself\u001b[39m\u001b[38;5;241m.\u001b[39mcontrol \u001b[38;5;241m=\u001b[39m \u001b[38;5;28mself\u001b[39m\u001b[38;5;241m.\u001b[39mcallback_handler\u001b[38;5;241m.\u001b[39mon_step_begin(args, \u001b[38;5;28mself\u001b[39m\u001b[38;5;241m.\u001b[39mstate, \u001b[38;5;28mself\u001b[39m\u001b[38;5;241m.\u001b[39mcontrol)\n\u001b[0;32m   1868\u001b[0m \u001b[38;5;28;01mwith\u001b[39;00m \u001b[38;5;28mself\u001b[39m\u001b[38;5;241m.\u001b[39maccelerator\u001b[38;5;241m.\u001b[39maccumulate(model):\n\u001b[1;32m-> 1869\u001b[0m     tr_loss_step \u001b[38;5;241m=\u001b[39m \u001b[38;5;28;43mself\u001b[39;49m\u001b[38;5;241;43m.\u001b[39;49m\u001b[43mtraining_step\u001b[49m\u001b[43m(\u001b[49m\u001b[43mmodel\u001b[49m\u001b[43m,\u001b[49m\u001b[43m \u001b[49m\u001b[43minputs\u001b[49m\u001b[43m)\u001b[49m\n\u001b[0;32m   1871\u001b[0m \u001b[38;5;28;01mif\u001b[39;00m (\n\u001b[0;32m   1872\u001b[0m     args\u001b[38;5;241m.\u001b[39mlogging_nan_inf_filter\n\u001b[0;32m   1873\u001b[0m     \u001b[38;5;129;01mand\u001b[39;00m \u001b[38;5;129;01mnot\u001b[39;00m is_torch_tpu_available()\n\u001b[0;32m   1874\u001b[0m     \u001b[38;5;129;01mand\u001b[39;00m (torch\u001b[38;5;241m.\u001b[39misnan(tr_loss_step) \u001b[38;5;129;01mor\u001b[39;00m torch\u001b[38;5;241m.\u001b[39misinf(tr_loss_step))\n\u001b[0;32m   1875\u001b[0m ):\n\u001b[0;32m   1876\u001b[0m     \u001b[38;5;66;03m# if loss is nan or inf simply add the average of previous logged losses\u001b[39;00m\n\u001b[0;32m   1877\u001b[0m     tr_loss \u001b[38;5;241m+\u001b[39m\u001b[38;5;241m=\u001b[39m tr_loss \u001b[38;5;241m/\u001b[39m (\u001b[38;5;241m1\u001b[39m \u001b[38;5;241m+\u001b[39m \u001b[38;5;28mself\u001b[39m\u001b[38;5;241m.\u001b[39mstate\u001b[38;5;241m.\u001b[39mglobal_step \u001b[38;5;241m-\u001b[39m \u001b[38;5;28mself\u001b[39m\u001b[38;5;241m.\u001b[39m_globalstep_last_logged)\n",
      "File \u001b[1;32mc:\\Users\\james\\AppData\\Local\\Programs\\Python\\Python310\\lib\\site-packages\\transformers\\trainer.py:2781\u001b[0m, in \u001b[0;36mTrainer.training_step\u001b[1;34m(self, model, inputs)\u001b[0m\n\u001b[0;32m   2779\u001b[0m         scaled_loss\u001b[38;5;241m.\u001b[39mbackward()\n\u001b[0;32m   2780\u001b[0m \u001b[38;5;28;01melse\u001b[39;00m:\n\u001b[1;32m-> 2781\u001b[0m     \u001b[38;5;28;43mself\u001b[39;49m\u001b[38;5;241;43m.\u001b[39;49m\u001b[43maccelerator\u001b[49m\u001b[38;5;241;43m.\u001b[39;49m\u001b[43mbackward\u001b[49m\u001b[43m(\u001b[49m\u001b[43mloss\u001b[49m\u001b[43m)\u001b[49m\n\u001b[0;32m   2783\u001b[0m \u001b[38;5;28;01mreturn\u001b[39;00m loss\u001b[38;5;241m.\u001b[39mdetach() \u001b[38;5;241m/\u001b[39m \u001b[38;5;28mself\u001b[39m\u001b[38;5;241m.\u001b[39margs\u001b[38;5;241m.\u001b[39mgradient_accumulation_steps\n",
      "File \u001b[1;32mc:\\Users\\james\\AppData\\Local\\Programs\\Python\\Python310\\lib\\site-packages\\accelerate\\accelerator.py:1999\u001b[0m, in \u001b[0;36mAccelerator.backward\u001b[1;34m(self, loss, **kwargs)\u001b[0m\n\u001b[0;32m   1997\u001b[0m     \u001b[38;5;28;01mreturn\u001b[39;00m\n\u001b[0;32m   1998\u001b[0m \u001b[38;5;28;01melif\u001b[39;00m \u001b[38;5;28mself\u001b[39m\u001b[38;5;241m.\u001b[39mscaler \u001b[38;5;129;01mis\u001b[39;00m \u001b[38;5;129;01mnot\u001b[39;00m \u001b[38;5;28;01mNone\u001b[39;00m:\n\u001b[1;32m-> 1999\u001b[0m     \u001b[38;5;28mself\u001b[39m\u001b[38;5;241m.\u001b[39mscaler\u001b[38;5;241m.\u001b[39mscale(loss)\u001b[38;5;241m.\u001b[39mbackward(\u001b[38;5;241m*\u001b[39m\u001b[38;5;241m*\u001b[39mkwargs)\n\u001b[0;32m   2000\u001b[0m \u001b[38;5;28;01melse\u001b[39;00m:\n\u001b[0;32m   2001\u001b[0m     loss\u001b[38;5;241m.\u001b[39mbackward(\u001b[38;5;241m*\u001b[39m\u001b[38;5;241m*\u001b[39mkwargs)\n",
      "File \u001b[1;32mc:\\Users\\james\\AppData\\Local\\Programs\\Python\\Python310\\lib\\site-packages\\torch\\_tensor.py:648\u001b[0m, in \u001b[0;36mTensor.backward\u001b[1;34m(self, gradient, retain_graph, create_graph, inputs)\u001b[0m\n\u001b[0;32m    638\u001b[0m \u001b[38;5;28;01mif\u001b[39;00m has_torch_function_unary(\u001b[38;5;28mself\u001b[39m):\n\u001b[0;32m    639\u001b[0m     \u001b[38;5;28;01mreturn\u001b[39;00m handle_torch_function(\n\u001b[0;32m    640\u001b[0m         Tensor\u001b[38;5;241m.\u001b[39mbackward,\n\u001b[0;32m    641\u001b[0m         (\u001b[38;5;28mself\u001b[39m,),\n\u001b[1;32m   (...)\u001b[0m\n\u001b[0;32m    646\u001b[0m         inputs\u001b[38;5;241m=\u001b[39minputs,\n\u001b[0;32m    647\u001b[0m     )\n\u001b[1;32m--> 648\u001b[0m \u001b[43mtorch\u001b[49m\u001b[38;5;241;43m.\u001b[39;49m\u001b[43mautograd\u001b[49m\u001b[38;5;241;43m.\u001b[39;49m\u001b[43mbackward\u001b[49m\u001b[43m(\u001b[49m\n\u001b[0;32m    649\u001b[0m \u001b[43m    \u001b[49m\u001b[38;5;28;43mself\u001b[39;49m\u001b[43m,\u001b[49m\u001b[43m \u001b[49m\u001b[43mgradient\u001b[49m\u001b[43m,\u001b[49m\u001b[43m \u001b[49m\u001b[43mretain_graph\u001b[49m\u001b[43m,\u001b[49m\u001b[43m \u001b[49m\u001b[43mcreate_graph\u001b[49m\u001b[43m,\u001b[49m\u001b[43m \u001b[49m\u001b[43minputs\u001b[49m\u001b[38;5;241;43m=\u001b[39;49m\u001b[43minputs\u001b[49m\n\u001b[0;32m    650\u001b[0m \u001b[43m\u001b[49m\u001b[43m)\u001b[49m\n",
      "File \u001b[1;32mc:\\Users\\james\\AppData\\Local\\Programs\\Python\\Python310\\lib\\site-packages\\torch\\autograd\\__init__.py:353\u001b[0m, in \u001b[0;36mbackward\u001b[1;34m(tensors, grad_tensors, retain_graph, create_graph, grad_variables, inputs)\u001b[0m\n\u001b[0;32m    348\u001b[0m     retain_graph \u001b[38;5;241m=\u001b[39m create_graph\n\u001b[0;32m    350\u001b[0m \u001b[38;5;66;03m# The reason we repeat the same comment below is that\u001b[39;00m\n\u001b[0;32m    351\u001b[0m \u001b[38;5;66;03m# some Python versions print out the first line of a multi-line function\u001b[39;00m\n\u001b[0;32m    352\u001b[0m \u001b[38;5;66;03m# calls in the traceback and some print out the last line\u001b[39;00m\n\u001b[1;32m--> 353\u001b[0m \u001b[43m_engine_run_backward\u001b[49m\u001b[43m(\u001b[49m\n\u001b[0;32m    354\u001b[0m \u001b[43m    \u001b[49m\u001b[43mtensors\u001b[49m\u001b[43m,\u001b[49m\n\u001b[0;32m    355\u001b[0m \u001b[43m    \u001b[49m\u001b[43mgrad_tensors_\u001b[49m\u001b[43m,\u001b[49m\n\u001b[0;32m    356\u001b[0m \u001b[43m    \u001b[49m\u001b[43mretain_graph\u001b[49m\u001b[43m,\u001b[49m\n\u001b[0;32m    357\u001b[0m \u001b[43m    \u001b[49m\u001b[43mcreate_graph\u001b[49m\u001b[43m,\u001b[49m\n\u001b[0;32m    358\u001b[0m \u001b[43m    \u001b[49m\u001b[43minputs\u001b[49m\u001b[43m,\u001b[49m\n\u001b[0;32m    359\u001b[0m \u001b[43m    \u001b[49m\u001b[43mallow_unreachable\u001b[49m\u001b[38;5;241;43m=\u001b[39;49m\u001b[38;5;28;43;01mTrue\u001b[39;49;00m\u001b[43m,\u001b[49m\n\u001b[0;32m    360\u001b[0m \u001b[43m    \u001b[49m\u001b[43maccumulate_grad\u001b[49m\u001b[38;5;241;43m=\u001b[39;49m\u001b[38;5;28;43;01mTrue\u001b[39;49;00m\u001b[43m,\u001b[49m\n\u001b[0;32m    361\u001b[0m \u001b[43m\u001b[49m\u001b[43m)\u001b[49m\n",
      "File \u001b[1;32mc:\\Users\\james\\AppData\\Local\\Programs\\Python\\Python310\\lib\\site-packages\\torch\\autograd\\graph.py:824\u001b[0m, in \u001b[0;36m_engine_run_backward\u001b[1;34m(t_outputs, *args, **kwargs)\u001b[0m\n\u001b[0;32m    822\u001b[0m     unregister_hooks \u001b[38;5;241m=\u001b[39m _register_logging_hooks_on_whole_graph(t_outputs)\n\u001b[0;32m    823\u001b[0m \u001b[38;5;28;01mtry\u001b[39;00m:\n\u001b[1;32m--> 824\u001b[0m     \u001b[38;5;28;01mreturn\u001b[39;00m Variable\u001b[38;5;241m.\u001b[39m_execution_engine\u001b[38;5;241m.\u001b[39mrun_backward(  \u001b[38;5;66;03m# Calls into the C++ engine to run the backward pass\u001b[39;00m\n\u001b[0;32m    825\u001b[0m         t_outputs, \u001b[38;5;241m*\u001b[39margs, \u001b[38;5;241m*\u001b[39m\u001b[38;5;241m*\u001b[39mkwargs\n\u001b[0;32m    826\u001b[0m     )  \u001b[38;5;66;03m# Calls into the C++ engine to run the backward pass\u001b[39;00m\n\u001b[0;32m    827\u001b[0m \u001b[38;5;28;01mfinally\u001b[39;00m:\n\u001b[0;32m    828\u001b[0m     \u001b[38;5;28;01mif\u001b[39;00m attach_logging_hooks:\n",
      "\u001b[1;31mKeyboardInterrupt\u001b[0m: "
     ]
    }
   ],
   "source": [
    "trainer.train(resume_from_checkpoint=True)"
   ]
  }
 ],
 "metadata": {
  "kernelspec": {
   "display_name": "Python 3",
   "language": "python",
   "name": "python3"
  },
  "language_info": {
   "codemirror_mode": {
    "name": "ipython",
    "version": 3
   },
   "file_extension": ".py",
   "mimetype": "text/x-python",
   "name": "python",
   "nbconvert_exporter": "python",
   "pygments_lexer": "ipython3",
   "version": "3.10.11"
  }
 },
 "nbformat": 4,
 "nbformat_minor": 5
}
