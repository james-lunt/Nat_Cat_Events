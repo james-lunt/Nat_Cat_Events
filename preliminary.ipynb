{
 "cells": [
  {
   "cell_type": "code",
   "execution_count": 2,
   "id": "004d08d8",
   "metadata": {},
   "outputs": [],
   "source": [
    "import pandas as pd"
   ]
  },
  {
   "cell_type": "code",
   "execution_count": 4,
   "id": "98e71e35",
   "metadata": {},
   "outputs": [],
   "source": [
    "events = pd.read_csv('Nat Cat Events.csv')"
   ]
  },
  {
   "cell_type": "code",
   "execution_count": 5,
   "id": "b5a19a14",
   "metadata": {},
   "outputs": [
    {
     "name": "stdout",
     "output_type": "stream",
     "text": [
      "<class 'pandas.core.frame.DataFrame'>\n",
      "RangeIndex: 91479 entries, 0 to 91478\n",
      "Data columns (total 8 columns):\n",
      " #   Column         Non-Null Count  Dtype \n",
      "---  ------         --------------  ----- \n",
      " 0   url            91479 non-null  object\n",
      " 1   url_mobile     25383 non-null  object\n",
      " 2   title          91384 non-null  object\n",
      " 3   seendate       91479 non-null  object\n",
      " 4   socialimage    79390 non-null  object\n",
      " 5   domain         91479 non-null  object\n",
      " 6   language       91479 non-null  object\n",
      " 7   sourcecountry  89958 non-null  object\n",
      "dtypes: object(8)\n",
      "memory usage: 5.6+ MB\n"
     ]
    }
   ],
   "source": [
    "events.info()"
   ]
  },
  {
   "cell_type": "code",
   "execution_count": 7,
   "id": "fce05387",
   "metadata": {},
   "outputs": [
    {
     "data": {
      "text/plain": [
       "0        2023 was a year of extreme weather in Southern...\n",
       "1        HAWAIIAN VOLCANO OBSERVATORY DAILY UPDATE Mond...\n",
       "2                How to Protect Your Family from Tornadoes\n",
       "3        Iceland volcanoes bring tourists to island cou...\n",
       "4                How to Protect Your Family from Tornadoes\n",
       "                               ...                        \n",
       "91474    Indonesia : Mount Ibu erupts on 2024 last day ...\n",
       "91475    Montgomery County crime : Authorities detain d...\n",
       "91476    Love Island India Reynolds reveals her family ...\n",
       "91477    New Year celebrated across world but united ki...\n",
       "91478    Kentucky Humane Society receives $30 , 000 gra...\n",
       "Name: title, Length: 91479, dtype: object"
      ]
     },
     "execution_count": 7,
     "metadata": {},
     "output_type": "execute_result"
    }
   ],
   "source": [
    "events['title']"
   ]
  },
  {
   "cell_type": "code",
   "execution_count": null,
   "id": "e7bea00d",
   "metadata": {},
   "outputs": [],
   "source": []
  }
 ],
 "metadata": {
  "kernelspec": {
   "display_name": "base",
   "language": "python",
   "name": "python3"
  },
  "language_info": {
   "codemirror_mode": {
    "name": "ipython",
    "version": 3
   },
   "file_extension": ".py",
   "mimetype": "text/x-python",
   "name": "python",
   "nbconvert_exporter": "python",
   "pygments_lexer": "ipython3",
   "version": "3.11.5"
  }
 },
 "nbformat": 4,
 "nbformat_minor": 5
}
